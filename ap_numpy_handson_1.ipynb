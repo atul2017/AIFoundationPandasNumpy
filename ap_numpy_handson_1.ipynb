{
  "nbformat": 4,
  "nbformat_minor": 0,
  "metadata": {
    "colab": {
      "provenance": [],
      "authorship_tag": "ABX9TyPkIG+yFpz0nOVPBXFY2WeQ",
      "include_colab_link": true
    },
    "kernelspec": {
      "name": "python3",
      "display_name": "Python 3"
    },
    "language_info": {
      "name": "python"
    }
  },
  "cells": [
    {
      "cell_type": "markdown",
      "metadata": {
        "id": "view-in-github",
        "colab_type": "text"
      },
      "source": [
        "<a href=\"https://colab.research.google.com/github/atul2017/AIFoundationPandasNumpy/blob/main/ap_numpy_handson_1.ipynb\" target=\"_parent\"><img src=\"https://colab.research.google.com/assets/colab-badge.svg\" alt=\"Open In Colab\"/></a>"
      ]
    },
    {
      "cell_type": "code",
      "execution_count": null,
      "metadata": {
        "colab": {
          "base_uri": "https://localhost:8080/"
        },
        "id": "MCxlpl-cV2ji",
        "outputId": "56f9b2de-147a-4a2d-da6b-bc4bee79fc49"
      },
      "outputs": [
        {
          "output_type": "stream",
          "name": "stdout",
          "text": [
            "votes Array: [ 775  787  918   88  166  286 2556  324  504  402]\n",
            "Costs Array: [\"'800.0'\" \"'800.0'\" \"'800.0'\" \"'300.0'\" \"'600.0'\" \"'600.0'\" \"'600.0'\"\n",
            " \"'700.0'\" \"'550.0'\" \"'500.0'\"]\n"
          ]
        }
      ],
      "source": [
        "import numpy as np\n",
        "import pandas as pd\n",
        "\n",
        "\n",
        "votes = np.array([775,  787,  918,   88,  166,  286, 2556,  324,  504,  402])\n",
        "cost = np.array([\"'800.0'\" ,\"'800.0'\", \"'800.0'\", \"'300.0'\", \"'600.0'\", \"'600.0'\", \"'600.0'\", \"'700.0'\" ,\"'550.0'\", \"'500.0'\"])\n",
        "\n",
        "print(\"votes Array:\",votes)\n",
        "print(\"Costs Array:\",cost)"
      ]
    },
    {
      "cell_type": "markdown",
      "source": [
        "1. Numpy arrays are always homogenous\n",
        "2. If you store Int and Float in Numpy array it will convert all int to Float\n",
        "3. Vice versa cannot happen because you might loose the data if you convert Float to Int\n",
        "4. Arrays index always start with zero"
      ],
      "metadata": {
        "id": "jGlh3DoHYJfB"
      }
    },
    {
      "cell_type": "code",
      "source": [
        "np.array([1,2,3.3])\n"
      ],
      "metadata": {
        "colab": {
          "base_uri": "https://localhost:8080/"
        },
        "id": "v-xOlOGmYhlh",
        "outputId": "13f4076e-b9af-4f12-d2fd-0df9fe257f3b"
      },
      "execution_count": null,
      "outputs": [
        {
          "output_type": "execute_result",
          "data": {
            "text/plain": [
              "array([1. , 2. , 3.3])"
            ]
          },
          "metadata": {},
          "execution_count": 2
        }
      ]
    },
    {
      "cell_type": "code",
      "source": [
        "np.array([1,2,\"3.0\"]) #String > Float > No"
      ],
      "metadata": {
        "colab": {
          "base_uri": "https://localhost:8080/"
        },
        "id": "wJcTVVngYwiz",
        "outputId": "2428c2df-780e-49b3-b7a6-55fe7d56e3bb"
      },
      "execution_count": null,
      "outputs": [
        {
          "output_type": "execute_result",
          "data": {
            "text/plain": [
              "array(['1', '2', '3.0'], dtype='<U21')"
            ]
          },
          "metadata": {},
          "execution_count": 3
        }
      ]
    },
    {
      "cell_type": "code",
      "source": [
        "np.array([1,2,3.0], dtype=int) #convert all values in int inside the array"
      ],
      "metadata": {
        "colab": {
          "base_uri": "https://localhost:8080/"
        },
        "id": "ydeqmvEPZYSG",
        "outputId": "f8ec1ad6-600e-4d23-c1ec-51937ad0ce03"
      },
      "execution_count": null,
      "outputs": [
        {
          "output_type": "execute_result",
          "data": {
            "text/plain": [
              "array([1, 2, 3])"
            ]
          },
          "metadata": {},
          "execution_count": 4
        }
      ]
    },
    {
      "cell_type": "code",
      "source": [
        "list(range(20)) #generates the sequence of numbers"
      ],
      "metadata": {
        "colab": {
          "base_uri": "https://localhost:8080/"
        },
        "id": "W05_6DA2Znrs",
        "outputId": "7e7940b9-5c5d-4fd7-c142-7936e40e28e0"
      },
      "execution_count": null,
      "outputs": [
        {
          "output_type": "execute_result",
          "data": {
            "text/plain": [
              "[0, 1, 2, 3, 4, 5, 6, 7, 8, 9, 10, 11, 12, 13, 14, 15, 16, 17, 18, 19]"
            ]
          },
          "metadata": {},
          "execution_count": 5
        }
      ]
    },
    {
      "cell_type": "code",
      "source": [
        "np.arange(20)"
      ],
      "metadata": {
        "colab": {
          "base_uri": "https://localhost:8080/"
        },
        "id": "f5JgKlUJZtcb",
        "outputId": "6f814063-d0ad-4afd-f208-29490c367325"
      },
      "execution_count": null,
      "outputs": [
        {
          "output_type": "execute_result",
          "data": {
            "text/plain": [
              "array([ 0,  1,  2,  3,  4,  5,  6,  7,  8,  9, 10, 11, 12, 13, 14, 15, 16,\n",
              "       17, 18, 19])"
            ]
          },
          "metadata": {},
          "execution_count": 6
        }
      ]
    },
    {
      "cell_type": "code",
      "source": [
        "import time\n",
        "import numpy as np\n",
        "\n",
        "large_list = list(range(1000000))\n",
        "large_array = np.arange(1000000);\n",
        "\n",
        "start = time.time()\n",
        "list_sum = sum(large_list)\n",
        "end = time.time()\n",
        "list_time = end - start\n",
        "\n",
        "start = time.time()\n",
        "array_sum = np.sum(large_array)\n",
        "end = time.time()\n",
        "array_time = end - start\n",
        "\n",
        "print(\"List Time:\",list_time)\n",
        "print(\"Array Time:\",array_time)"
      ],
      "metadata": {
        "colab": {
          "base_uri": "https://localhost:8080/"
        },
        "id": "dw5hx9xQatF3",
        "outputId": "d7abf418-e386-455a-a4c0-da4b15b13c86"
      },
      "execution_count": null,
      "outputs": [
        {
          "output_type": "stream",
          "name": "stdout",
          "text": [
            "List Time: 0.030670881271362305\n",
            "Array Time: 0.0039331912994384766\n"
          ]
        }
      ]
    },
    {
      "cell_type": "code",
      "source": [
        "list_time/array_time #Array perfornace is more than the list. In array the values are stores in continous location. In python List the values are stored in\n",
        "#random memory location which takes more time to access values compare to arrays"
      ],
      "metadata": {
        "colab": {
          "base_uri": "https://localhost:8080/"
        },
        "id": "UsAyKUOsbdWB",
        "outputId": "d2d666e7-2648-41af-b115-f92b432d1ca1"
      },
      "execution_count": null,
      "outputs": [
        {
          "output_type": "execute_result",
          "data": {
            "text/plain": [
              "7.797963266048373"
            ]
          },
          "metadata": {},
          "execution_count": 8
        }
      ]
    },
    {
      "cell_type": "code",
      "source": [
        "votes"
      ],
      "metadata": {
        "colab": {
          "base_uri": "https://localhost:8080/"
        },
        "id": "CoRGFJYUcFXe",
        "outputId": "3b4d955a-5fcb-48ea-b14a-3cacb37180cf"
      },
      "execution_count": null,
      "outputs": [
        {
          "output_type": "execute_result",
          "data": {
            "text/plain": [
              "array([ 775,  787,  918,   88,  166,  286, 2556,  324,  504,  402])"
            ]
          },
          "metadata": {},
          "execution_count": 9
        }
      ]
    },
    {
      "cell_type": "code",
      "source": [
        "votes_time_two = votes * 2\n",
        "votes_time_two"
      ],
      "metadata": {
        "colab": {
          "base_uri": "https://localhost:8080/"
        },
        "id": "JXoupmxmcIxW",
        "outputId": "138126f8-1206-4aef-86d2-98ad4a9ac692"
      },
      "execution_count": null,
      "outputs": [
        {
          "output_type": "execute_result",
          "data": {
            "text/plain": [
              "array([1550, 1574, 1836,  176,  332,  572, 5112,  648, 1008,  804])"
            ]
          },
          "metadata": {},
          "execution_count": 10
        }
      ]
    },
    {
      "cell_type": "code",
      "source": [
        "type(votes_time_two) #type of the array"
      ],
      "metadata": {
        "colab": {
          "base_uri": "https://localhost:8080/"
        },
        "id": "Pv3aiquec0Yg",
        "outputId": "3f032b37-a9db-4ba3-efb3-de6f16a0dbf2"
      },
      "execution_count": null,
      "outputs": [
        {
          "output_type": "execute_result",
          "data": {
            "text/plain": [
              "numpy.ndarray"
            ]
          },
          "metadata": {},
          "execution_count": 11
        }
      ]
    },
    {
      "cell_type": "code",
      "source": [
        "votes_time_two.shape #shape of the array"
      ],
      "metadata": {
        "colab": {
          "base_uri": "https://localhost:8080/"
        },
        "id": "_rLviOhDc4jr",
        "outputId": "b2855329-5ec2-47cc-c0c1-b4c961900ed1"
      },
      "execution_count": null,
      "outputs": [
        {
          "output_type": "execute_result",
          "data": {
            "text/plain": [
              "(10,)"
            ]
          },
          "metadata": {},
          "execution_count": 12
        }
      ]
    },
    {
      "cell_type": "code",
      "source": [
        "votes_time_two.ndim #dimension of the array"
      ],
      "metadata": {
        "colab": {
          "base_uri": "https://localhost:8080/"
        },
        "id": "Ev9D2uiFdD9s",
        "outputId": "df9415eb-cb75-403a-af8e-9f82f5f14030"
      },
      "execution_count": null,
      "outputs": [
        {
          "output_type": "execute_result",
          "data": {
            "text/plain": [
              "1"
            ]
          },
          "metadata": {},
          "execution_count": 13
        }
      ]
    },
    {
      "cell_type": "code",
      "source": [
        "votes_time_two.size #size of the array"
      ],
      "metadata": {
        "colab": {
          "base_uri": "https://localhost:8080/"
        },
        "id": "DP_fpD6UdIvg",
        "outputId": "dc31bb35-887e-4fc9-94ff-f9be077f7a2e"
      },
      "execution_count": null,
      "outputs": [
        {
          "output_type": "execute_result",
          "data": {
            "text/plain": [
              "10"
            ]
          },
          "metadata": {},
          "execution_count": 14
        }
      ]
    },
    {
      "cell_type": "code",
      "source": [
        "subset_votes = votes\n",
        "subset_costs = cost\n",
        "\n",
        "two_d_data = np.array([subset_votes,subset_costs]).T\n",
        "two_d_data\n",
        "\n",
        "print(\"2D Array:\\n\", two_d_data)\n",
        "print(\"Shape:\", two_d_data.shape)\n",
        "print(\"Dimensions:\", two_d_data.ndim)\n",
        "print(\"Size:\", two_d_data.size)"
      ],
      "metadata": {
        "colab": {
          "base_uri": "https://localhost:8080/"
        },
        "id": "9jISfI5Cd_qp",
        "outputId": "e404c0d5-f9d6-40ce-ca78-9de60ef09b80"
      },
      "execution_count": null,
      "outputs": [
        {
          "output_type": "stream",
          "name": "stdout",
          "text": [
            "2D Array:\n",
            " [['775' \"'800.0'\"]\n",
            " ['787' \"'800.0'\"]\n",
            " ['918' \"'800.0'\"]\n",
            " ['88' \"'300.0'\"]\n",
            " ['166' \"'600.0'\"]\n",
            " ['286' \"'600.0'\"]\n",
            " ['2556' \"'600.0'\"]\n",
            " ['324' \"'700.0'\"]\n",
            " ['504' \"'550.0'\"]\n",
            " ['402' \"'500.0'\"]]\n",
            "Shape: (10, 2)\n",
            "Dimensions: 2\n",
            "Size: 20\n"
          ]
        }
      ]
    },
    {
      "cell_type": "code",
      "source": [
        "np.array([subset_votes,subset_costs]).shape"
      ],
      "metadata": {
        "colab": {
          "base_uri": "https://localhost:8080/"
        },
        "id": "i4zzzQKshKIj",
        "outputId": "e9f05a4e-84e2-4020-9d9c-383cb337e48d"
      },
      "execution_count": null,
      "outputs": [
        {
          "output_type": "execute_result",
          "data": {
            "text/plain": [
              "(2, 10)"
            ]
          },
          "metadata": {},
          "execution_count": 16
        }
      ]
    },
    {
      "cell_type": "code",
      "source": [
        "np.arange(1,5) #returns the numpy array"
      ],
      "metadata": {
        "colab": {
          "base_uri": "https://localhost:8080/"
        },
        "id": "Sm1y2b9mhRZl",
        "outputId": "2636d01a-2965-44a2-9eb8-910b2a87c1f9"
      },
      "execution_count": null,
      "outputs": [
        {
          "output_type": "execute_result",
          "data": {
            "text/plain": [
              "array([1, 2, 3, 4])"
            ]
          },
          "metadata": {},
          "execution_count": 17
        }
      ]
    },
    {
      "cell_type": "code",
      "source": [
        "np.arange(5)"
      ],
      "metadata": {
        "colab": {
          "base_uri": "https://localhost:8080/"
        },
        "id": "4EKq3DoCh14i",
        "outputId": "cd56e1c4-8679-4b53-f919-f51c3b904f7d"
      },
      "execution_count": null,
      "outputs": [
        {
          "output_type": "execute_result",
          "data": {
            "text/plain": [
              "array([0, 1, 2, 3, 4])"
            ]
          },
          "metadata": {},
          "execution_count": 18
        }
      ]
    },
    {
      "cell_type": "code",
      "source": [
        "np.arange(1,10,2)"
      ],
      "metadata": {
        "colab": {
          "base_uri": "https://localhost:8080/"
        },
        "id": "c64qOjmYiDKv",
        "outputId": "d374e365-6370-4536-b2ab-550165f74fca"
      },
      "execution_count": null,
      "outputs": [
        {
          "output_type": "execute_result",
          "data": {
            "text/plain": [
              "array([1, 3, 5, 7, 9])"
            ]
          },
          "metadata": {},
          "execution_count": 19
        }
      ]
    },
    {
      "cell_type": "code",
      "source": [
        "np.arange(1,10,.5)"
      ],
      "metadata": {
        "colab": {
          "base_uri": "https://localhost:8080/"
        },
        "id": "IFQM4IXYiM2L",
        "outputId": "b65c9c9a-880a-43de-af1d-25d7cf57cd18"
      },
      "execution_count": null,
      "outputs": [
        {
          "output_type": "execute_result",
          "data": {
            "text/plain": [
              "array([1. , 1.5, 2. , 2.5, 3. , 3.5, 4. , 4.5, 5. , 5.5, 6. , 6.5, 7. ,\n",
              "       7.5, 8. , 8.5, 9. , 9.5])"
            ]
          },
          "metadata": {},
          "execution_count": 20
        }
      ]
    },
    {
      "cell_type": "code",
      "source": [
        "cost"
      ],
      "metadata": {
        "colab": {
          "base_uri": "https://localhost:8080/"
        },
        "id": "cvMqIet-iUns",
        "outputId": "3821bf1e-cf51-4ee0-b236-073e06a228ed"
      },
      "execution_count": null,
      "outputs": [
        {
          "output_type": "execute_result",
          "data": {
            "text/plain": [
              "array([\"'800.0'\", \"'800.0'\", \"'800.0'\", \"'300.0'\", \"'600.0'\", \"'600.0'\",\n",
              "       \"'600.0'\", \"'700.0'\", \"'550.0'\", \"'500.0'\"], dtype='<U7')"
            ]
          },
          "metadata": {},
          "execution_count": 21
        }
      ]
    },
    {
      "cell_type": "code",
      "source": [
        "cost = np.char.replace(cost, \"'\", '') #replace something from the array. First convert the values in the array to char and use replace function\n",
        "cost"
      ],
      "metadata": {
        "colab": {
          "base_uri": "https://localhost:8080/"
        },
        "id": "zB0ZNpgLjadB",
        "outputId": "9ac27305-45df-444d-918d-11adb0375dc6"
      },
      "execution_count": null,
      "outputs": [
        {
          "output_type": "execute_result",
          "data": {
            "text/plain": [
              "array(['800.0', '800.0', '800.0', '300.0', '600.0', '600.0', '600.0',\n",
              "       '700.0', '550.0', '500.0'], dtype='<U5')"
            ]
          },
          "metadata": {},
          "execution_count": 22
        }
      ]
    },
    {
      "cell_type": "code",
      "source": [
        "cost.astype(float) #convert the array to float"
      ],
      "metadata": {
        "colab": {
          "base_uri": "https://localhost:8080/"
        },
        "id": "pMsx2ha5lTqn",
        "outputId": "e57fa2f9-b4c6-4ed3-f0d0-8f70cf2cc65b"
      },
      "execution_count": null,
      "outputs": [
        {
          "output_type": "execute_result",
          "data": {
            "text/plain": [
              "array([800., 800., 800., 300., 600., 600., 600., 700., 550., 500.])"
            ]
          },
          "metadata": {},
          "execution_count": 23
        }
      ]
    },
    {
      "cell_type": "code",
      "source": [
        "cost_v2 = np.array([\"'800.0'\", \"'800.0'\", \"'800.0'\", \"'300.0'\", \"'600.0'\", \"'600.0'\",\n",
        "       \"'600.0'\", \"'700.0'\", \"'550.0'\", \"'500.0'\"])\n",
        "cost_v2.astype(float);  #error since you are asking too much to python"
      ],
      "metadata": {
        "colab": {
          "base_uri": "https://localhost:8080/",
          "height": 176
        },
        "id": "gjDtpycul62c",
        "outputId": "515f358d-7aef-4b31-c4bf-30ea98c50502"
      },
      "execution_count": null,
      "outputs": [
        {
          "output_type": "error",
          "ename": "ValueError",
          "evalue": "could not convert string to float: np.str_(\"'800.0'\")",
          "traceback": [
            "\u001b[0;31m---------------------------------------------------------------------------\u001b[0m",
            "\u001b[0;31mValueError\u001b[0m                                Traceback (most recent call last)",
            "\u001b[0;32m<ipython-input-25-41b07c411b7f>\u001b[0m in \u001b[0;36m<cell line: 0>\u001b[0;34m()\u001b[0m\n\u001b[1;32m      1\u001b[0m cost_v2 = np.array([\"'800.0'\", \"'800.0'\", \"'800.0'\", \"'300.0'\", \"'600.0'\", \"'600.0'\",\n\u001b[1;32m      2\u001b[0m        \"'600.0'\", \"'700.0'\", \"'550.0'\", \"'500.0'\"])\n\u001b[0;32m----> 3\u001b[0;31m \u001b[0mcost_v2\u001b[0m\u001b[0;34m.\u001b[0m\u001b[0mastype\u001b[0m\u001b[0;34m(\u001b[0m\u001b[0mfloat\u001b[0m\u001b[0;34m)\u001b[0m\u001b[0;34m;\u001b[0m  \u001b[0;31m#error since you are asking too much to python\u001b[0m\u001b[0;34m\u001b[0m\u001b[0;34m\u001b[0m\u001b[0m\n\u001b[0m",
            "\u001b[0;31mValueError\u001b[0m: could not convert string to float: np.str_(\"'800.0'\")"
          ]
        }
      ]
    },
    {
      "cell_type": "code",
      "source": [
        "test_array = np.array([\"$12,23\", \"$11,1111\"])\n",
        "test_array = np.char.replace(test_array, \"$\", '')\n",
        "test_array = np.char.replace(test_array, \",\", \"\")\n",
        "test_array"
      ],
      "metadata": {
        "colab": {
          "base_uri": "https://localhost:8080/"
        },
        "id": "0DwHv4d7kGTa",
        "outputId": "72b8d2f3-c6f8-4a00-acf1-da14ede71070"
      },
      "execution_count": null,
      "outputs": [
        {
          "output_type": "execute_result",
          "data": {
            "text/plain": [
              "array(['1223', '111111'], dtype='<U6')"
            ]
          },
          "metadata": {},
          "execution_count": 26
        }
      ]
    },
    {
      "cell_type": "markdown",
      "source": [
        "Indexing, working with 2D arrays"
      ],
      "metadata": {
        "id": "_gCZAJ4es1e9"
      }
    },
    {
      "cell_type": "code",
      "source": [
        "sample_votes = np.array([775, 787, 918, 88, 166, 286, 2556, 324, 504, 402, 150, 164, 424, 918, 90, 133, 144, 93, 62, 180, 62, 148, 219, 506, 172, 415, 230, 1647, 4884, 133, 286, 540, 2556, 36, 244, 804, 679, 245, 345, 618, 1047, 627, 354, 244, 163, 808, 1720, 868, 520, 299])\n",
        "sample_costs = np.array([800.0, 800.0, 800.0, 300.0, 600.0, 600.0, 600.0, 700.0, 550.0, 500.0, 600.0, 500.0, 450.0, 800.0, 650.0, 800.0, 700.0, 300.0, 400.0, 500.0, 600.0, 550.0, 600.0, 500.0, 750.0, 500.0, 650.0, 600.0, 750.0, 200.0, 500.0, 800.0, 600.0, 400.0, 300.0, 450.0, 850.0, 300.0, 400.0, 750.0, 450.0, 450.0, 800.0, 800.0, 800.0, 850.0, 400.0, 1200.0, 300.0, 300.0])\n",
        "\n",
        "restaurants_data = np.array([sample_votes,sample_costs]).T\n",
        "\n",
        "print(\"2D Array (votes,costs):\\n\",restaurants_data)\n",
        "print(\"Shape:\", restaurants_data.shape)\n",
        "print(\"Dimensions:\", restaurants_data.ndim)\n",
        "print(\"Size:\", restaurants_data.size)"
      ],
      "metadata": {
        "colab": {
          "base_uri": "https://localhost:8080/"
        },
        "id": "q9RNdqm9s5i5",
        "outputId": "0d0c8cf4-291f-4827-ca87-cd6d89b588c0"
      },
      "execution_count": null,
      "outputs": [
        {
          "output_type": "stream",
          "name": "stdout",
          "text": [
            "2D Array (votes,costs):\n",
            " [[ 775.  800.]\n",
            " [ 787.  800.]\n",
            " [ 918.  800.]\n",
            " [  88.  300.]\n",
            " [ 166.  600.]\n",
            " [ 286.  600.]\n",
            " [2556.  600.]\n",
            " [ 324.  700.]\n",
            " [ 504.  550.]\n",
            " [ 402.  500.]\n",
            " [ 150.  600.]\n",
            " [ 164.  500.]\n",
            " [ 424.  450.]\n",
            " [ 918.  800.]\n",
            " [  90.  650.]\n",
            " [ 133.  800.]\n",
            " [ 144.  700.]\n",
            " [  93.  300.]\n",
            " [  62.  400.]\n",
            " [ 180.  500.]\n",
            " [  62.  600.]\n",
            " [ 148.  550.]\n",
            " [ 219.  600.]\n",
            " [ 506.  500.]\n",
            " [ 172.  750.]\n",
            " [ 415.  500.]\n",
            " [ 230.  650.]\n",
            " [1647.  600.]\n",
            " [4884.  750.]\n",
            " [ 133.  200.]\n",
            " [ 286.  500.]\n",
            " [ 540.  800.]\n",
            " [2556.  600.]\n",
            " [  36.  400.]\n",
            " [ 244.  300.]\n",
            " [ 804.  450.]\n",
            " [ 679.  850.]\n",
            " [ 245.  300.]\n",
            " [ 345.  400.]\n",
            " [ 618.  750.]\n",
            " [1047.  450.]\n",
            " [ 627.  450.]\n",
            " [ 354.  800.]\n",
            " [ 244.  800.]\n",
            " [ 163.  800.]\n",
            " [ 808.  850.]\n",
            " [1720.  400.]\n",
            " [ 868. 1200.]\n",
            " [ 520.  300.]\n",
            " [ 299.  300.]]\n",
            "Shape: (50, 2)\n",
            "Dimensions: 2\n",
            "Size: 100\n"
          ]
        }
      ]
    },
    {
      "cell_type": "code",
      "source": [
        "restaurants_data.reshape(25,4)\n"
      ],
      "metadata": {
        "colab": {
          "base_uri": "https://localhost:8080/"
        },
        "id": "DNHj5bbPt-7n",
        "outputId": "ea5d8fd0-92c1-4412-c942-fae97558c124"
      },
      "execution_count": null,
      "outputs": [
        {
          "output_type": "execute_result",
          "data": {
            "text/plain": [
              "array([[ 775.,  800.,  787.,  800.],\n",
              "       [ 918.,  800.,   88.,  300.],\n",
              "       [ 166.,  600.,  286.,  600.],\n",
              "       [2556.,  600.,  324.,  700.],\n",
              "       [ 504.,  550.,  402.,  500.],\n",
              "       [ 150.,  600.,  164.,  500.],\n",
              "       [ 424.,  450.,  918.,  800.],\n",
              "       [  90.,  650.,  133.,  800.],\n",
              "       [ 144.,  700.,   93.,  300.],\n",
              "       [  62.,  400.,  180.,  500.],\n",
              "       [  62.,  600.,  148.,  550.],\n",
              "       [ 219.,  600.,  506.,  500.],\n",
              "       [ 172.,  750.,  415.,  500.],\n",
              "       [ 230.,  650., 1647.,  600.],\n",
              "       [4884.,  750.,  133.,  200.],\n",
              "       [ 286.,  500.,  540.,  800.],\n",
              "       [2556.,  600.,   36.,  400.],\n",
              "       [ 244.,  300.,  804.,  450.],\n",
              "       [ 679.,  850.,  245.,  300.],\n",
              "       [ 345.,  400.,  618.,  750.],\n",
              "       [1047.,  450.,  627.,  450.],\n",
              "       [ 354.,  800.,  244.,  800.],\n",
              "       [ 163.,  800.,  808.,  850.],\n",
              "       [1720.,  400.,  868., 1200.],\n",
              "       [ 520.,  300.,  299.,  300.]])"
            ]
          },
          "metadata": {},
          "execution_count": 28
        }
      ]
    },
    {
      "cell_type": "code",
      "source": [
        "restaurants_data.reshape(10,10)\n"
      ],
      "metadata": {
        "colab": {
          "base_uri": "https://localhost:8080/"
        },
        "id": "gdqqZvoiufrX",
        "outputId": "f0b4a8d9-6f7f-4537-b5c6-0f7b4d427343"
      },
      "execution_count": null,
      "outputs": [
        {
          "output_type": "execute_result",
          "data": {
            "text/plain": [
              "array([[ 775.,  800.,  787.,  800.,  918.,  800.,   88.,  300.,  166.,\n",
              "         600.],\n",
              "       [ 286.,  600., 2556.,  600.,  324.,  700.,  504.,  550.,  402.,\n",
              "         500.],\n",
              "       [ 150.,  600.,  164.,  500.,  424.,  450.,  918.,  800.,   90.,\n",
              "         650.],\n",
              "       [ 133.,  800.,  144.,  700.,   93.,  300.,   62.,  400.,  180.,\n",
              "         500.],\n",
              "       [  62.,  600.,  148.,  550.,  219.,  600.,  506.,  500.,  172.,\n",
              "         750.],\n",
              "       [ 415.,  500.,  230.,  650., 1647.,  600., 4884.,  750.,  133.,\n",
              "         200.],\n",
              "       [ 286.,  500.,  540.,  800., 2556.,  600.,   36.,  400.,  244.,\n",
              "         300.],\n",
              "       [ 804.,  450.,  679.,  850.,  245.,  300.,  345.,  400.,  618.,\n",
              "         750.],\n",
              "       [1047.,  450.,  627.,  450.,  354.,  800.,  244.,  800.,  163.,\n",
              "         800.],\n",
              "       [ 808.,  850., 1720.,  400.,  868., 1200.,  520.,  300.,  299.,\n",
              "         300.]])"
            ]
          },
          "metadata": {},
          "execution_count": 29
        }
      ]
    },
    {
      "cell_type": "code",
      "source": [
        "restaurants_data.reshape(50,4)\n"
      ],
      "metadata": {
        "colab": {
          "base_uri": "https://localhost:8080/",
          "height": 141
        },
        "id": "PcletNwbuk3l",
        "outputId": "65e9648b-6684-4c59-9d35-c5fb2162c3b5"
      },
      "execution_count": null,
      "outputs": [
        {
          "output_type": "error",
          "ename": "ValueError",
          "evalue": "cannot reshape array of size 100 into shape (50,4)",
          "traceback": [
            "\u001b[0;31m---------------------------------------------------------------------------\u001b[0m",
            "\u001b[0;31mValueError\u001b[0m                                Traceback (most recent call last)",
            "\u001b[0;32m<ipython-input-30-ecbb21809036>\u001b[0m in \u001b[0;36m<cell line: 0>\u001b[0;34m()\u001b[0m\n\u001b[0;32m----> 1\u001b[0;31m \u001b[0mrestaurants_data\u001b[0m\u001b[0;34m.\u001b[0m\u001b[0mreshape\u001b[0m\u001b[0;34m(\u001b[0m\u001b[0;36m50\u001b[0m\u001b[0;34m,\u001b[0m\u001b[0;36m4\u001b[0m\u001b[0;34m)\u001b[0m\u001b[0;34m\u001b[0m\u001b[0;34m\u001b[0m\u001b[0m\n\u001b[0m",
            "\u001b[0;31mValueError\u001b[0m: cannot reshape array of size 100 into shape (50,4)"
          ]
        }
      ]
    },
    {
      "cell_type": "code",
      "source": [
        "restaurants_data.reshape(25,2,2)\n",
        "\n"
      ],
      "metadata": {
        "colab": {
          "base_uri": "https://localhost:8080/"
        },
        "id": "zDyNo7TMuuXY",
        "outputId": "d41b9a6e-bbc1-4d8f-cc11-72affd089ffa"
      },
      "execution_count": null,
      "outputs": [
        {
          "output_type": "execute_result",
          "data": {
            "text/plain": [
              "array([[[ 775.,  800.],\n",
              "        [ 787.,  800.]],\n",
              "\n",
              "       [[ 918.,  800.],\n",
              "        [  88.,  300.]],\n",
              "\n",
              "       [[ 166.,  600.],\n",
              "        [ 286.,  600.]],\n",
              "\n",
              "       [[2556.,  600.],\n",
              "        [ 324.,  700.]],\n",
              "\n",
              "       [[ 504.,  550.],\n",
              "        [ 402.,  500.]],\n",
              "\n",
              "       [[ 150.,  600.],\n",
              "        [ 164.,  500.]],\n",
              "\n",
              "       [[ 424.,  450.],\n",
              "        [ 918.,  800.]],\n",
              "\n",
              "       [[  90.,  650.],\n",
              "        [ 133.,  800.]],\n",
              "\n",
              "       [[ 144.,  700.],\n",
              "        [  93.,  300.]],\n",
              "\n",
              "       [[  62.,  400.],\n",
              "        [ 180.,  500.]],\n",
              "\n",
              "       [[  62.,  600.],\n",
              "        [ 148.,  550.]],\n",
              "\n",
              "       [[ 219.,  600.],\n",
              "        [ 506.,  500.]],\n",
              "\n",
              "       [[ 172.,  750.],\n",
              "        [ 415.,  500.]],\n",
              "\n",
              "       [[ 230.,  650.],\n",
              "        [1647.,  600.]],\n",
              "\n",
              "       [[4884.,  750.],\n",
              "        [ 133.,  200.]],\n",
              "\n",
              "       [[ 286.,  500.],\n",
              "        [ 540.,  800.]],\n",
              "\n",
              "       [[2556.,  600.],\n",
              "        [  36.,  400.]],\n",
              "\n",
              "       [[ 244.,  300.],\n",
              "        [ 804.,  450.]],\n",
              "\n",
              "       [[ 679.,  850.],\n",
              "        [ 245.,  300.]],\n",
              "\n",
              "       [[ 345.,  400.],\n",
              "        [ 618.,  750.]],\n",
              "\n",
              "       [[1047.,  450.],\n",
              "        [ 627.,  450.]],\n",
              "\n",
              "       [[ 354.,  800.],\n",
              "        [ 244.,  800.]],\n",
              "\n",
              "       [[ 163.,  800.],\n",
              "        [ 808.,  850.]],\n",
              "\n",
              "       [[1720.,  400.],\n",
              "        [ 868., 1200.]],\n",
              "\n",
              "       [[ 520.,  300.],\n",
              "        [ 299.,  300.]]])"
            ]
          },
          "metadata": {},
          "execution_count": 31
        }
      ]
    },
    {
      "cell_type": "code",
      "source": [
        "restaurants_data.shape"
      ],
      "metadata": {
        "colab": {
          "base_uri": "https://localhost:8080/"
        },
        "id": "XJMNSkPniXLN",
        "outputId": "134965b1-c5ba-4b1c-830b-06622e2c5745"
      },
      "execution_count": null,
      "outputs": [
        {
          "output_type": "execute_result",
          "data": {
            "text/plain": [
              "(50, 2)"
            ]
          },
          "metadata": {},
          "execution_count": 32
        }
      ]
    },
    {
      "cell_type": "code",
      "source": [
        "restaurants_data.reshape(5,-1).shape #This will find out the value of second dimension or second value. -1 is called empty placeholder"
      ],
      "metadata": {
        "colab": {
          "base_uri": "https://localhost:8080/"
        },
        "id": "rT8Ij9zOvYTg",
        "outputId": "3f45a3ad-bf21-40f8-fc6e-2919b9345d5b"
      },
      "execution_count": null,
      "outputs": [
        {
          "output_type": "execute_result",
          "data": {
            "text/plain": [
              "(5, 20)"
            ]
          },
          "metadata": {},
          "execution_count": 33
        }
      ]
    },
    {
      "cell_type": "code",
      "source": [
        "restaurants_data.reshape(6,-1).shape"
      ],
      "metadata": {
        "colab": {
          "base_uri": "https://localhost:8080/",
          "height": 141
        },
        "id": "XVEGvCeyvnEs",
        "outputId": "d7390ca8-a78c-41a6-9bc1-37f2626c33aa"
      },
      "execution_count": null,
      "outputs": [
        {
          "output_type": "error",
          "ename": "ValueError",
          "evalue": "cannot reshape array of size 100 into shape (6,newaxis)",
          "traceback": [
            "\u001b[0;31m---------------------------------------------------------------------------\u001b[0m",
            "\u001b[0;31mValueError\u001b[0m                                Traceback (most recent call last)",
            "\u001b[0;32m<ipython-input-34-421811f00fc7>\u001b[0m in \u001b[0;36m<cell line: 0>\u001b[0;34m()\u001b[0m\n\u001b[0;32m----> 1\u001b[0;31m \u001b[0mrestaurants_data\u001b[0m\u001b[0;34m.\u001b[0m\u001b[0mreshape\u001b[0m\u001b[0;34m(\u001b[0m\u001b[0;36m6\u001b[0m\u001b[0;34m,\u001b[0m\u001b[0;34m-\u001b[0m\u001b[0;36m1\u001b[0m\u001b[0;34m)\u001b[0m\u001b[0;34m.\u001b[0m\u001b[0mshape\u001b[0m\u001b[0;34m\u001b[0m\u001b[0;34m\u001b[0m\u001b[0m\n\u001b[0m",
            "\u001b[0;31mValueError\u001b[0m: cannot reshape array of size 100 into shape (6,newaxis)"
          ]
        }
      ]
    },
    {
      "cell_type": "markdown",
      "source": [
        "Indexing & Slicing"
      ],
      "metadata": {
        "id": "bFpJVRRrfHB5"
      }
    },
    {
      "cell_type": "code",
      "source": [
        "print(\"Transpose of the 2D array:\\n\", restaurants_data.T)"
      ],
      "metadata": {
        "colab": {
          "base_uri": "https://localhost:8080/"
        },
        "id": "HIXWxf6chxah",
        "outputId": "289bd584-1c39-45dc-9346-6bb32bae12a2"
      },
      "execution_count": null,
      "outputs": [
        {
          "output_type": "stream",
          "name": "stdout",
          "text": [
            "Transpose of the 2D array:\n",
            " [[ 775.  787.  918.   88.  166.  286. 2556.  324.  504.  402.  150.  164.\n",
            "   424.  918.   90.  133.  144.   93.   62.  180.   62.  148.  219.  506.\n",
            "   172.  415.  230. 1647. 4884.  133.  286.  540. 2556.   36.  244.  804.\n",
            "   679.  245.  345.  618. 1047.  627.  354.  244.  163.  808. 1720.  868.\n",
            "   520.  299.]\n",
            " [ 800.  800.  800.  300.  600.  600.  600.  700.  550.  500.  600.  500.\n",
            "   450.  800.  650.  800.  700.  300.  400.  500.  600.  550.  600.  500.\n",
            "   750.  500.  650.  600.  750.  200.  500.  800.  600.  400.  300.  450.\n",
            "   850.  300.  400.  750.  450.  450.  800.  800.  800.  850.  400. 1200.\n",
            "   300.  300.]]\n"
          ]
        }
      ]
    },
    {
      "cell_type": "code",
      "source": [
        "restaurants_data[0]\n"
      ],
      "metadata": {
        "colab": {
          "base_uri": "https://localhost:8080/"
        },
        "id": "EyWNwlZJjT6z",
        "outputId": "4a8a1544-8160-477e-fbab-cd6325d7afda"
      },
      "execution_count": null,
      "outputs": [
        {
          "output_type": "execute_result",
          "data": {
            "text/plain": [
              "array([775., 800.])"
            ]
          },
          "metadata": {},
          "execution_count": 36
        }
      ]
    },
    {
      "cell_type": "code",
      "source": [
        "restaurants_data[0,1]\n"
      ],
      "metadata": {
        "colab": {
          "base_uri": "https://localhost:8080/"
        },
        "id": "LNthyhxpkuPa",
        "outputId": "7d948c97-5679-4b38-b624-6a38b1d1432e"
      },
      "execution_count": null,
      "outputs": [
        {
          "output_type": "execute_result",
          "data": {
            "text/plain": [
              "np.float64(800.0)"
            ]
          },
          "metadata": {},
          "execution_count": 37
        }
      ]
    },
    {
      "cell_type": "code",
      "source": [
        "restaurants_data[0,:]\n"
      ],
      "metadata": {
        "colab": {
          "base_uri": "https://localhost:8080/"
        },
        "id": "z0HMk3kJk2PB",
        "outputId": "8d4a0a9b-f0fd-4412-aba6-f0a7a95f5b5d"
      },
      "execution_count": null,
      "outputs": [
        {
          "output_type": "execute_result",
          "data": {
            "text/plain": [
              "array([775., 800.])"
            ]
          },
          "metadata": {},
          "execution_count": 38
        }
      ]
    },
    {
      "cell_type": "code",
      "source": [
        "restaurants_data[:,1] #I want to select all the rows of first column\n"
      ],
      "metadata": {
        "colab": {
          "base_uri": "https://localhost:8080/"
        },
        "id": "4MyxB7Lwk6DT",
        "outputId": "4dc3d334-d32c-428c-8a5f-948f2d0887d5"
      },
      "execution_count": null,
      "outputs": [
        {
          "output_type": "execute_result",
          "data": {
            "text/plain": [
              "array([ 800.,  800.,  800.,  300.,  600.,  600.,  600.,  700.,  550.,\n",
              "        500.,  600.,  500.,  450.,  800.,  650.,  800.,  700.,  300.,\n",
              "        400.,  500.,  600.,  550.,  600.,  500.,  750.,  500.,  650.,\n",
              "        600.,  750.,  200.,  500.,  800.,  600.,  400.,  300.,  450.,\n",
              "        850.,  300.,  400.,  750.,  450.,  450.,  800.,  800.,  800.,\n",
              "        850.,  400., 1200.,  300.,  300.])"
            ]
          },
          "metadata": {},
          "execution_count": 39
        }
      ]
    },
    {
      "cell_type": "code",
      "source": [
        "restaurants_data[:,:]\n"
      ],
      "metadata": {
        "colab": {
          "base_uri": "https://localhost:8080/"
        },
        "id": "ezVxartxlS7P",
        "outputId": "f0d00b58-1754-449b-ebba-53acdd64a25d"
      },
      "execution_count": null,
      "outputs": [
        {
          "output_type": "execute_result",
          "data": {
            "text/plain": [
              "array([[ 775.,  800.],\n",
              "       [ 787.,  800.],\n",
              "       [ 918.,  800.],\n",
              "       [  88.,  300.],\n",
              "       [ 166.,  600.],\n",
              "       [ 286.,  600.],\n",
              "       [2556.,  600.],\n",
              "       [ 324.,  700.],\n",
              "       [ 504.,  550.],\n",
              "       [ 402.,  500.],\n",
              "       [ 150.,  600.],\n",
              "       [ 164.,  500.],\n",
              "       [ 424.,  450.],\n",
              "       [ 918.,  800.],\n",
              "       [  90.,  650.],\n",
              "       [ 133.,  800.],\n",
              "       [ 144.,  700.],\n",
              "       [  93.,  300.],\n",
              "       [  62.,  400.],\n",
              "       [ 180.,  500.],\n",
              "       [  62.,  600.],\n",
              "       [ 148.,  550.],\n",
              "       [ 219.,  600.],\n",
              "       [ 506.,  500.],\n",
              "       [ 172.,  750.],\n",
              "       [ 415.,  500.],\n",
              "       [ 230.,  650.],\n",
              "       [1647.,  600.],\n",
              "       [4884.,  750.],\n",
              "       [ 133.,  200.],\n",
              "       [ 286.,  500.],\n",
              "       [ 540.,  800.],\n",
              "       [2556.,  600.],\n",
              "       [  36.,  400.],\n",
              "       [ 244.,  300.],\n",
              "       [ 804.,  450.],\n",
              "       [ 679.,  850.],\n",
              "       [ 245.,  300.],\n",
              "       [ 345.,  400.],\n",
              "       [ 618.,  750.],\n",
              "       [1047.,  450.],\n",
              "       [ 627.,  450.],\n",
              "       [ 354.,  800.],\n",
              "       [ 244.,  800.],\n",
              "       [ 163.,  800.],\n",
              "       [ 808.,  850.],\n",
              "       [1720.,  400.],\n",
              "       [ 868., 1200.],\n",
              "       [ 520.,  300.],\n",
              "       [ 299.,  300.]])"
            ]
          },
          "metadata": {},
          "execution_count": 40
        }
      ]
    },
    {
      "cell_type": "code",
      "source": [
        "#Rows 2 to rows 4, 2 & 4 both inclusive, all columns\n",
        "restaurants_data[2:5,:]\n",
        "#2:5 - 2 is included and but not the 5 when you define ranges in the python"
      ],
      "metadata": {
        "colab": {
          "base_uri": "https://localhost:8080/"
        },
        "id": "kmfYqtlnlZTt",
        "outputId": "1e107ec9-ba84-4cc5-c798-88b7dd649344"
      },
      "execution_count": null,
      "outputs": [
        {
          "output_type": "execute_result",
          "data": {
            "text/plain": [
              "array([[918., 800.],\n",
              "       [ 88., 300.],\n",
              "       [166., 600.]])"
            ]
          },
          "metadata": {},
          "execution_count": 43
        }
      ]
    },
    {
      "cell_type": "markdown",
      "source": [
        "Fancy Indexing"
      ],
      "metadata": {
        "id": "ekj_f2KSmvOj"
      }
    },
    {
      "cell_type": "code",
      "source": [
        "restaurants_data[:,1]\n"
      ],
      "metadata": {
        "colab": {
          "base_uri": "https://localhost:8080/"
        },
        "id": "kWhHOQkqmyU-",
        "outputId": "a82a3dbe-d3c1-47f2-c855-b7b73a350bc5"
      },
      "execution_count": null,
      "outputs": [
        {
          "output_type": "execute_result",
          "data": {
            "text/plain": [
              "array([ 800.,  800.,  800.,  300.,  600.,  600.,  600.,  700.,  550.,\n",
              "        500.,  600.,  500.,  450.,  800.,  650.,  800.,  700.,  300.,\n",
              "        400.,  500.,  600.,  550.,  600.,  500.,  750.,  500.,  650.,\n",
              "        600.,  750.,  200.,  500.,  800.,  600.,  400.,  300.,  450.,\n",
              "        850.,  300.,  400.,  750.,  450.,  450.,  800.,  800.,  800.,\n",
              "        850.,  400., 1200.,  300.,  300.])"
            ]
          },
          "metadata": {},
          "execution_count": 44
        }
      ]
    },
    {
      "cell_type": "code",
      "source": [
        "restaurants_data[:,1] > 500\n"
      ],
      "metadata": {
        "colab": {
          "base_uri": "https://localhost:8080/"
        },
        "id": "eo4kQUcon3M2",
        "outputId": "2ea91c97-ee2f-4f4e-a93e-adb54d94dee7"
      },
      "execution_count": null,
      "outputs": [
        {
          "output_type": "execute_result",
          "data": {
            "text/plain": [
              "array([ True,  True,  True, False,  True,  True,  True,  True,  True,\n",
              "       False,  True, False, False,  True,  True,  True,  True, False,\n",
              "       False, False,  True,  True,  True, False,  True, False,  True,\n",
              "        True,  True, False, False,  True,  True, False, False, False,\n",
              "        True, False, False,  True, False, False,  True,  True,  True,\n",
              "        True, False,  True, False, False])"
            ]
          },
          "metadata": {},
          "execution_count": 45
        }
      ]
    },
    {
      "cell_type": "code",
      "source": [
        "#select first row, fifth row and seventh row\n",
        "restaurants_data[[1,5,7],:]"
      ],
      "metadata": {
        "colab": {
          "base_uri": "https://localhost:8080/"
        },
        "id": "rxfvLrL_n7Rh",
        "outputId": "6dbd8de2-5237-4b8c-f2da-934b7f3f8ce6"
      },
      "execution_count": null,
      "outputs": [
        {
          "output_type": "execute_result",
          "data": {
            "text/plain": [
              "array([[787., 800.],\n",
              "       [286., 600.],\n",
              "       [324., 700.]])"
            ]
          },
          "metadata": {},
          "execution_count": 46
        }
      ]
    },
    {
      "cell_type": "code",
      "source": [
        "#select first row, fifth row and seventh row\n",
        "restaurants_data[[1,5,7]]"
      ],
      "metadata": {
        "colab": {
          "base_uri": "https://localhost:8080/"
        },
        "id": "_HKTJPbTp-2B",
        "outputId": "bfd2985c-6f5b-497b-f25b-5001cbe0f9a8"
      },
      "execution_count": null,
      "outputs": [
        {
          "output_type": "execute_result",
          "data": {
            "text/plain": [
              "array([[787., 800.],\n",
              "       [286., 600.],\n",
              "       [324., 700.]])"
            ]
          },
          "metadata": {},
          "execution_count": 47
        }
      ]
    },
    {
      "cell_type": "code",
      "source": [
        "#Print all the value of array if the value > 500\n",
        "restaurants_data[[ True,  True,  True, False,  True,  True,  True,  True,  True,\n",
        "       False,  True, False, False,  True,  True,  True,  True, False,\n",
        "       False, False,  True,  True,  True, False,  True, False,  True,\n",
        "        True,  True, False, False,  True,  True, False, False, False,\n",
        "        True, False, False,  True, False, False,  True,  True,  True,\n",
        "        True, False,  True, False, False]]"
      ],
      "metadata": {
        "colab": {
          "base_uri": "https://localhost:8080/"
        },
        "id": "rG45sGwsqDHl",
        "outputId": "c1d47ee6-9d71-4617-c456-dbe1b7af95c0"
      },
      "execution_count": null,
      "outputs": [
        {
          "output_type": "execute_result",
          "data": {
            "text/plain": [
              "array([[ 775.,  800.],\n",
              "       [ 787.,  800.],\n",
              "       [ 918.,  800.],\n",
              "       [ 166.,  600.],\n",
              "       [ 286.,  600.],\n",
              "       [2556.,  600.],\n",
              "       [ 324.,  700.],\n",
              "       [ 504.,  550.],\n",
              "       [ 150.,  600.],\n",
              "       [ 918.,  800.],\n",
              "       [  90.,  650.],\n",
              "       [ 133.,  800.],\n",
              "       [ 144.,  700.],\n",
              "       [  62.,  600.],\n",
              "       [ 148.,  550.],\n",
              "       [ 219.,  600.],\n",
              "       [ 172.,  750.],\n",
              "       [ 230.,  650.],\n",
              "       [1647.,  600.],\n",
              "       [4884.,  750.],\n",
              "       [ 540.,  800.],\n",
              "       [2556.,  600.],\n",
              "       [ 679.,  850.],\n",
              "       [ 618.,  750.],\n",
              "       [ 354.,  800.],\n",
              "       [ 244.,  800.],\n",
              "       [ 163.,  800.],\n",
              "       [ 808.,  850.],\n",
              "       [ 868., 1200.]])"
            ]
          },
          "metadata": {},
          "execution_count": 48
        }
      ]
    },
    {
      "cell_type": "code",
      "source": [
        "restaurants_data[restaurants_data[:,1] > 500]"
      ],
      "metadata": {
        "colab": {
          "base_uri": "https://localhost:8080/"
        },
        "id": "L5enXS9Jqkm-",
        "outputId": "6f0f502d-f289-472d-f28b-4b8c04071bdc"
      },
      "execution_count": null,
      "outputs": [
        {
          "output_type": "execute_result",
          "data": {
            "text/plain": [
              "array([[ 775.,  800.],\n",
              "       [ 787.,  800.],\n",
              "       [ 918.,  800.],\n",
              "       [ 166.,  600.],\n",
              "       [ 286.,  600.],\n",
              "       [2556.,  600.],\n",
              "       [ 324.,  700.],\n",
              "       [ 504.,  550.],\n",
              "       [ 150.,  600.],\n",
              "       [ 918.,  800.],\n",
              "       [  90.,  650.],\n",
              "       [ 133.,  800.],\n",
              "       [ 144.,  700.],\n",
              "       [  62.,  600.],\n",
              "       [ 148.,  550.],\n",
              "       [ 219.,  600.],\n",
              "       [ 172.,  750.],\n",
              "       [ 230.,  650.],\n",
              "       [1647.,  600.],\n",
              "       [4884.,  750.],\n",
              "       [ 540.,  800.],\n",
              "       [2556.,  600.],\n",
              "       [ 679.,  850.],\n",
              "       [ 618.,  750.],\n",
              "       [ 354.,  800.],\n",
              "       [ 244.,  800.],\n",
              "       [ 163.,  800.],\n",
              "       [ 808.,  850.],\n",
              "       [ 868., 1200.]])"
            ]
          },
          "metadata": {},
          "execution_count": 49
        }
      ]
    },
    {
      "cell_type": "code",
      "source": [
        "restaurants_data[restaurants_data[:,0] < 400]"
      ],
      "metadata": {
        "colab": {
          "base_uri": "https://localhost:8080/"
        },
        "id": "bz_eucnHqpi7",
        "outputId": "7c36eed8-aaef-425d-de02-f8721523ed32"
      },
      "execution_count": null,
      "outputs": [
        {
          "output_type": "execute_result",
          "data": {
            "text/plain": [
              "array([[ 88., 300.],\n",
              "       [166., 600.],\n",
              "       [286., 600.],\n",
              "       [324., 700.],\n",
              "       [150., 600.],\n",
              "       [164., 500.],\n",
              "       [ 90., 650.],\n",
              "       [133., 800.],\n",
              "       [144., 700.],\n",
              "       [ 93., 300.],\n",
              "       [ 62., 400.],\n",
              "       [180., 500.],\n",
              "       [ 62., 600.],\n",
              "       [148., 550.],\n",
              "       [219., 600.],\n",
              "       [172., 750.],\n",
              "       [230., 650.],\n",
              "       [133., 200.],\n",
              "       [286., 500.],\n",
              "       [ 36., 400.],\n",
              "       [244., 300.],\n",
              "       [245., 300.],\n",
              "       [345., 400.],\n",
              "       [354., 800.],\n",
              "       [244., 800.],\n",
              "       [163., 800.],\n",
              "       [299., 300.]])"
            ]
          },
          "metadata": {},
          "execution_count": 50
        }
      ]
    },
    {
      "cell_type": "markdown",
      "source": [
        "# **Very simple numpy operations**\n",
        "sum\n",
        "mean\n",
        "min\n",
        "max\n",
        "std"
      ],
      "metadata": {
        "id": "Lrydp599rZrW"
      }
    },
    {
      "cell_type": "code",
      "source": [
        "restaurants_data"
      ],
      "metadata": {
        "colab": {
          "base_uri": "https://localhost:8080/"
        },
        "id": "i5MGlIy6rkRB",
        "outputId": "db70f30c-cfbe-44b7-b25d-e0b5cd7930d4"
      },
      "execution_count": null,
      "outputs": [
        {
          "output_type": "execute_result",
          "data": {
            "text/plain": [
              "array([[ 775.,  800.],\n",
              "       [ 787.,  800.],\n",
              "       [ 918.,  800.],\n",
              "       [  88.,  300.],\n",
              "       [ 166.,  600.],\n",
              "       [ 286.,  600.],\n",
              "       [2556.,  600.],\n",
              "       [ 324.,  700.],\n",
              "       [ 504.,  550.],\n",
              "       [ 402.,  500.],\n",
              "       [ 150.,  600.],\n",
              "       [ 164.,  500.],\n",
              "       [ 424.,  450.],\n",
              "       [ 918.,  800.],\n",
              "       [  90.,  650.],\n",
              "       [ 133.,  800.],\n",
              "       [ 144.,  700.],\n",
              "       [  93.,  300.],\n",
              "       [  62.,  400.],\n",
              "       [ 180.,  500.],\n",
              "       [  62.,  600.],\n",
              "       [ 148.,  550.],\n",
              "       [ 219.,  600.],\n",
              "       [ 506.,  500.],\n",
              "       [ 172.,  750.],\n",
              "       [ 415.,  500.],\n",
              "       [ 230.,  650.],\n",
              "       [1647.,  600.],\n",
              "       [4884.,  750.],\n",
              "       [ 133.,  200.],\n",
              "       [ 286.,  500.],\n",
              "       [ 540.,  800.],\n",
              "       [2556.,  600.],\n",
              "       [  36.,  400.],\n",
              "       [ 244.,  300.],\n",
              "       [ 804.,  450.],\n",
              "       [ 679.,  850.],\n",
              "       [ 245.,  300.],\n",
              "       [ 345.,  400.],\n",
              "       [ 618.,  750.],\n",
              "       [1047.,  450.],\n",
              "       [ 627.,  450.],\n",
              "       [ 354.,  800.],\n",
              "       [ 244.,  800.],\n",
              "       [ 163.,  800.],\n",
              "       [ 808.,  850.],\n",
              "       [1720.,  400.],\n",
              "       [ 868., 1200.],\n",
              "       [ 520.,  300.],\n",
              "       [ 299.,  300.]])"
            ]
          },
          "metadata": {},
          "execution_count": 51
        }
      ]
    },
    {
      "cell_type": "code",
      "source": [
        "restaurants_data.sum(axis=0) #columns addition - axis define the direction"
      ],
      "metadata": {
        "colab": {
          "base_uri": "https://localhost:8080/"
        },
        "id": "sr_eHzoHvBKm",
        "outputId": "08bc98f6-cb48-4d3b-a485-8e37f10a8da3"
      },
      "execution_count": null,
      "outputs": [
        {
          "output_type": "execute_result",
          "data": {
            "text/plain": [
              "array([30583., 29350.])"
            ]
          },
          "metadata": {},
          "execution_count": 52
        }
      ]
    },
    {
      "cell_type": "code",
      "source": [
        "restaurants_data.sum(axis=1) #rows addition - axis define the direction"
      ],
      "metadata": {
        "colab": {
          "base_uri": "https://localhost:8080/"
        },
        "id": "nVEAmR75vHfp",
        "outputId": "98716f1a-7781-4bbc-cd0b-bd153f95bb76"
      },
      "execution_count": null,
      "outputs": [
        {
          "output_type": "execute_result",
          "data": {
            "text/plain": [
              "array([1575., 1587., 1718.,  388.,  766.,  886., 3156., 1024., 1054.,\n",
              "        902.,  750.,  664.,  874., 1718.,  740.,  933.,  844.,  393.,\n",
              "        462.,  680.,  662.,  698.,  819., 1006.,  922.,  915.,  880.,\n",
              "       2247., 5634.,  333.,  786., 1340., 3156.,  436.,  544., 1254.,\n",
              "       1529.,  545.,  745., 1368., 1497., 1077., 1154., 1044.,  963.,\n",
              "       1658., 2120., 2068.,  820.,  599.])"
            ]
          },
          "metadata": {},
          "execution_count": 53
        }
      ]
    },
    {
      "cell_type": "code",
      "source": [
        "restaurants_data.mean(axis=0)"
      ],
      "metadata": {
        "colab": {
          "base_uri": "https://localhost:8080/"
        },
        "id": "kIxcuGUTwYn7",
        "outputId": "7611db6d-3902-46b9-8318-b540fef3499d"
      },
      "execution_count": null,
      "outputs": [
        {
          "output_type": "execute_result",
          "data": {
            "text/plain": [
              "array([611.66, 587.  ])"
            ]
          },
          "metadata": {},
          "execution_count": 54
        }
      ]
    },
    {
      "cell_type": "code",
      "source": [
        "restaurants_data.mean(axis=1)"
      ],
      "metadata": {
        "colab": {
          "base_uri": "https://localhost:8080/"
        },
        "id": "2M9-UE9ewcNP",
        "outputId": "e4409c11-4b55-47ae-895c-6b52755e0045"
      },
      "execution_count": null,
      "outputs": [
        {
          "output_type": "execute_result",
          "data": {
            "text/plain": [
              "array([ 787.5,  793.5,  859. ,  194. ,  383. ,  443. , 1578. ,  512. ,\n",
              "        527. ,  451. ,  375. ,  332. ,  437. ,  859. ,  370. ,  466.5,\n",
              "        422. ,  196.5,  231. ,  340. ,  331. ,  349. ,  409.5,  503. ,\n",
              "        461. ,  457.5,  440. , 1123.5, 2817. ,  166.5,  393. ,  670. ,\n",
              "       1578. ,  218. ,  272. ,  627. ,  764.5,  272.5,  372.5,  684. ,\n",
              "        748.5,  538.5,  577. ,  522. ,  481.5,  829. , 1060. , 1034. ,\n",
              "        410. ,  299.5])"
            ]
          },
          "metadata": {},
          "execution_count": 55
        }
      ]
    },
    {
      "cell_type": "code",
      "source": [
        "cost"
      ],
      "metadata": {
        "colab": {
          "base_uri": "https://localhost:8080/"
        },
        "id": "emPeHyrGx5cH",
        "outputId": "be4249fe-e078-4474-ee36-8c3059d0ecdb"
      },
      "execution_count": null,
      "outputs": [
        {
          "output_type": "execute_result",
          "data": {
            "text/plain": [
              "array(['800.0', '800.0', '800.0', '300.0', '600.0', '600.0', '600.0',\n",
              "       '700.0', '550.0', '500.0'], dtype='<U5')"
            ]
          },
          "metadata": {},
          "execution_count": 56
        }
      ]
    },
    {
      "cell_type": "code",
      "source": [
        "np.where(cost > 500)"
      ],
      "metadata": {
        "colab": {
          "base_uri": "https://localhost:8080/",
          "height": 141
        },
        "id": "YtRRwJT00dih",
        "outputId": "537f3dbf-f8cb-4730-e3fd-05b52747cb41"
      },
      "execution_count": null,
      "outputs": [
        {
          "output_type": "error",
          "ename": "UFuncTypeError",
          "evalue": "ufunc 'greater' did not contain a loop with signature matching types (<class 'numpy.dtypes.StrDType'>, <class 'numpy.dtypes._PyLongDType'>) -> None",
          "traceback": [
            "\u001b[0;31m---------------------------------------------------------------------------\u001b[0m",
            "\u001b[0;31mUFuncTypeError\u001b[0m                            Traceback (most recent call last)",
            "\u001b[0;32m<ipython-input-57-243709806581>\u001b[0m in \u001b[0;36m<cell line: 0>\u001b[0;34m()\u001b[0m\n\u001b[0;32m----> 1\u001b[0;31m \u001b[0mnp\u001b[0m\u001b[0;34m.\u001b[0m\u001b[0mwhere\u001b[0m\u001b[0;34m(\u001b[0m\u001b[0mcost\u001b[0m \u001b[0;34m>\u001b[0m \u001b[0;36m500\u001b[0m\u001b[0;34m)\u001b[0m\u001b[0;34m\u001b[0m\u001b[0;34m\u001b[0m\u001b[0m\n\u001b[0m",
            "\u001b[0;31mUFuncTypeError\u001b[0m: ufunc 'greater' did not contain a loop with signature matching types (<class 'numpy.dtypes.StrDType'>, <class 'numpy.dtypes._PyLongDType'>) -> None"
          ]
        }
      ]
    },
    {
      "cell_type": "code",
      "source": [
        "p = np.array([[0], [10], [20]])\n",
        "q = np.array([10, 11, 12])\n",
        "print((p + q)[0][0])"
      ],
      "metadata": {
        "colab": {
          "base_uri": "https://localhost:8080/"
        },
        "id": "y7HOs7SULzdu",
        "outputId": "c55f0ce1-cd38-4bb5-de22-85501e4958f3"
      },
      "execution_count": null,
      "outputs": [
        {
          "output_type": "stream",
          "name": "stdout",
          "text": [
            "10\n"
          ]
        }
      ]
    },
    {
      "cell_type": "code",
      "source": [
        "x = np.array([[200,200,200],[300,300,300],[400,400,400]])\n",
        "v = np.array([200,300,400])\n",
        "print((x / v[:,None])[1][1])"
      ],
      "metadata": {
        "colab": {
          "base_uri": "https://localhost:8080/"
        },
        "id": "KDxGOWszMLgC",
        "outputId": "f5ff739a-cae5-49df-c221-e2384e9b8488"
      },
      "execution_count": null,
      "outputs": [
        {
          "output_type": "stream",
          "name": "stdout",
          "text": [
            "1.0\n"
          ]
        }
      ]
    }
  ]
}