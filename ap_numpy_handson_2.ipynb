{
  "nbformat": 4,
  "nbformat_minor": 0,
  "metadata": {
    "colab": {
      "provenance": [],
      "authorship_tag": "ABX9TyNKOKnUMyC2WgHWprAXmU/9",
      "include_colab_link": true
    },
    "kernelspec": {
      "name": "python3",
      "display_name": "Python 3"
    },
    "language_info": {
      "name": "python"
    }
  },
  "cells": [
    {
      "cell_type": "markdown",
      "metadata": {
        "id": "view-in-github",
        "colab_type": "text"
      },
      "source": [
        "<a href=\"https://colab.research.google.com/github/atul2017/AIFoundationPandasNumpy/blob/main/ap_numpy_handson_2.ipynb\" target=\"_parent\"><img src=\"https://colab.research.google.com/assets/colab-badge.svg\" alt=\"Open In Colab\"/></a>"
      ]
    },
    {
      "cell_type": "code",
      "execution_count": null,
      "metadata": {
        "colab": {
          "base_uri": "https://localhost:8080/"
        },
        "id": "eiwIkrVSxldt",
        "outputId": "ca687ebd-d777-4f3f-a8cb-bad9d7c48338"
      },
      "outputs": [
        {
          "output_type": "stream",
          "name": "stdout",
          "text": [
            "Votes (Array): [ 775  787  918   88  166  286 2556  324  504  402]\n",
            "Costs (Array): [\"'800.0'\" \"'800.0'\" \"'800.0'\" \"'300.0'\" \"'600.0'\" \"'600.0'\" \"'600.0'\"\n",
            " \"'700.0'\" \"'550.0'\" \"'500.0'\"]\n"
          ]
        }
      ],
      "source": [
        "import numpy as np\n",
        "\n",
        "# Extracting numeric data as NumPy arrays for future analysis\n",
        "votes = np.array([ 775,  787,  918,   88,  166,  286, 2556,  324,  504,  402])\n",
        "costs = np.array([\"'800.0'\" ,\"'800.0'\", \"'800.0'\", \"'300.0'\", \"'600.0'\", \"'600.0'\", \"'600.0'\", \"'700.0'\" ,\"'550.0'\", \"'500.0'\"])\n",
        "\n",
        "print(\"Votes (Array):\", votes)\n",
        "print(\"Costs (Array):\", costs)"
      ]
    },
    {
      "cell_type": "markdown",
      "source": [
        "#Numpy is Numarical Python and it helps numerical calculations and operations on data"
      ],
      "metadata": {
        "id": "WCrnZihlx2Am"
      }
    },
    {
      "cell_type": "code",
      "source": [
        "votes * 2 #Multiply the entire arrays value by 2"
      ],
      "metadata": {
        "colab": {
          "base_uri": "https://localhost:8080/"
        },
        "id": "OFQ-JbfEyZWC",
        "outputId": "923f1a3c-e9b7-4b21-8a5c-7e2dfe9cdbd1"
      },
      "execution_count": null,
      "outputs": [
        {
          "output_type": "execute_result",
          "data": {
            "text/plain": [
              "array([1550, 1574, 1836,  176,  332,  572, 5112,  648, 1008,  804])"
            ]
          },
          "metadata": {},
          "execution_count": 2
        }
      ]
    },
    {
      "cell_type": "code",
      "source": [
        "type(votes)"
      ],
      "metadata": {
        "colab": {
          "base_uri": "https://localhost:8080/"
        },
        "id": "B2xIzjOgyjZ2",
        "outputId": "8e7450cd-9a09-4f83-8c7c-d962b163acd4"
      },
      "execution_count": null,
      "outputs": [
        {
          "output_type": "execute_result",
          "data": {
            "text/plain": [
              "numpy.ndarray"
            ]
          },
          "metadata": {},
          "execution_count": 3
        }
      ]
    },
    {
      "cell_type": "code",
      "source": [
        "np.ndim(votes)"
      ],
      "metadata": {
        "colab": {
          "base_uri": "https://localhost:8080/"
        },
        "id": "DagqV1ayyr5T",
        "outputId": "f88f81d1-8c8f-4a70-c9bb-87685dade4e0"
      },
      "execution_count": null,
      "outputs": [
        {
          "output_type": "execute_result",
          "data": {
            "text/plain": [
              "1"
            ]
          },
          "metadata": {},
          "execution_count": 4
        }
      ]
    },
    {
      "cell_type": "code",
      "source": [
        "votes.ndim"
      ],
      "metadata": {
        "colab": {
          "base_uri": "https://localhost:8080/"
        },
        "id": "f_ETblHfzGQn",
        "outputId": "aefea64f-be25-41ac-97c7-40fb2d4b9c51"
      },
      "execution_count": null,
      "outputs": [
        {
          "output_type": "execute_result",
          "data": {
            "text/plain": [
              "1"
            ]
          },
          "metadata": {},
          "execution_count": 5
        }
      ]
    },
    {
      "cell_type": "code",
      "source": [
        "votes.shape #it says how many values are available in one dimension in values because there is only one dimension available"
      ],
      "metadata": {
        "colab": {
          "base_uri": "https://localhost:8080/"
        },
        "id": "QAdK3NH5zXH3",
        "outputId": "db1cc316-9a3b-427d-8ad8-55c599232194"
      },
      "execution_count": null,
      "outputs": [
        {
          "output_type": "execute_result",
          "data": {
            "text/plain": [
              "(10,)"
            ]
          },
          "metadata": {},
          "execution_count": 6
        }
      ]
    },
    {
      "cell_type": "code",
      "source": [
        "#extract values from votes array which are greater than 300\n",
        "votes[votes > 300] #where votes > 300 returns True or False but when you put inside the brackets it put the corresponding values of True only"
      ],
      "metadata": {
        "colab": {
          "base_uri": "https://localhost:8080/"
        },
        "id": "Dosz9a6Nze77",
        "outputId": "6447fc88-b8fd-4bb3-9b53-ee0dd29d6ab1"
      },
      "execution_count": null,
      "outputs": [
        {
          "output_type": "execute_result",
          "data": {
            "text/plain": [
              "array([ 775,  787,  918, 2556,  324,  504,  402])"
            ]
          },
          "metadata": {},
          "execution_count": 7
        }
      ]
    },
    {
      "cell_type": "code",
      "source": [
        "# Take a sample of 50 restaurants\n",
        "sample_votes = np.array([775, 787, 918, 88, 166, 286, 2556, 324, 504, 402, 150, 164, 424, 918, 90, 133, 144, 93, 62, 180, 62, 148, 219, 506, 172, 415, 230, 1647, 4884, 133, 286, 540, 2556, 36, 244, 804, 679, 245, 345, 618, 1047, 627, 354, 244, 163, 808, 1720, 868, 520, 299])\n",
        "sample_costs = np.array([800.0, 800.0, 800.0, 300.0, 600.0, 600.0, 600.0, 700.0, 550.0, 500.0, 600.0, 500.0, 450.0, 800.0, 650.0, 800.0, 700.0, 300.0, 400.0, 500.0, 600.0, 550.0, 600.0, 500.0, 750.0, 500.0, 650.0, 600.0, 750.0, 200.0, 500.0, 800.0, 600.0, 400.0, 300.0, 450.0, 850.0, 300.0, 400.0, 750.0, 450.0, 450.0, 800.0, 800.0, 800.0, 850.0, 400.0, 1200.0, 300.0, 300.0])\n",
        "\n",
        "# Create a 2D array: rows = restaurants, columns = [votes, costs]\n",
        "restaurants_data = np.column_stack((sample_votes, sample_costs))\n",
        "\n",
        "print(\"2D Array (votes, costs):\\n\", restaurants_data)\n",
        "print(\"Shape:\", restaurants_data.shape)\n",
        "print(\"Dimensions:\", restaurants_data.ndim)  # 2D"
      ],
      "metadata": {
        "colab": {
          "base_uri": "https://localhost:8080/"
        },
        "id": "f3yjSRoY0wzD",
        "outputId": "3401c1a0-b7eb-4912-ec3f-94f814dbd53c"
      },
      "execution_count": null,
      "outputs": [
        {
          "output_type": "stream",
          "name": "stdout",
          "text": [
            "2D Array (votes, costs):\n",
            " [[ 775.  800.]\n",
            " [ 787.  800.]\n",
            " [ 918.  800.]\n",
            " [  88.  300.]\n",
            " [ 166.  600.]\n",
            " [ 286.  600.]\n",
            " [2556.  600.]\n",
            " [ 324.  700.]\n",
            " [ 504.  550.]\n",
            " [ 402.  500.]\n",
            " [ 150.  600.]\n",
            " [ 164.  500.]\n",
            " [ 424.  450.]\n",
            " [ 918.  800.]\n",
            " [  90.  650.]\n",
            " [ 133.  800.]\n",
            " [ 144.  700.]\n",
            " [  93.  300.]\n",
            " [  62.  400.]\n",
            " [ 180.  500.]\n",
            " [  62.  600.]\n",
            " [ 148.  550.]\n",
            " [ 219.  600.]\n",
            " [ 506.  500.]\n",
            " [ 172.  750.]\n",
            " [ 415.  500.]\n",
            " [ 230.  650.]\n",
            " [1647.  600.]\n",
            " [4884.  750.]\n",
            " [ 133.  200.]\n",
            " [ 286.  500.]\n",
            " [ 540.  800.]\n",
            " [2556.  600.]\n",
            " [  36.  400.]\n",
            " [ 244.  300.]\n",
            " [ 804.  450.]\n",
            " [ 679.  850.]\n",
            " [ 245.  300.]\n",
            " [ 345.  400.]\n",
            " [ 618.  750.]\n",
            " [1047.  450.]\n",
            " [ 627.  450.]\n",
            " [ 354.  800.]\n",
            " [ 244.  800.]\n",
            " [ 163.  800.]\n",
            " [ 808.  850.]\n",
            " [1720.  400.]\n",
            " [ 868. 1200.]\n",
            " [ 520.  300.]\n",
            " [ 299.  300.]]\n",
            "Shape: (50, 2)\n",
            "Dimensions: 2\n"
          ]
        }
      ]
    },
    {
      "cell_type": "code",
      "source": [
        "restaurants_data.reshape(-1) #one large flat array - 1D array"
      ],
      "metadata": {
        "colab": {
          "base_uri": "https://localhost:8080/"
        },
        "id": "IJh2dMVl2aVV",
        "outputId": "6a421335-963d-4b14-9e5e-f1eb6d55861f"
      },
      "execution_count": null,
      "outputs": [
        {
          "output_type": "execute_result",
          "data": {
            "text/plain": [
              "array([ 775.,  800.,  787.,  800.,  918.,  800.,   88.,  300.,  166.,\n",
              "        600.,  286.,  600., 2556.,  600.,  324.,  700.,  504.,  550.,\n",
              "        402.,  500.,  150.,  600.,  164.,  500.,  424.,  450.,  918.,\n",
              "        800.,   90.,  650.,  133.,  800.,  144.,  700.,   93.,  300.,\n",
              "         62.,  400.,  180.,  500.,   62.,  600.,  148.,  550.,  219.,\n",
              "        600.,  506.,  500.,  172.,  750.,  415.,  500.,  230.,  650.,\n",
              "       1647.,  600., 4884.,  750.,  133.,  200.,  286.,  500.,  540.,\n",
              "        800., 2556.,  600.,   36.,  400.,  244.,  300.,  804.,  450.,\n",
              "        679.,  850.,  245.,  300.,  345.,  400.,  618.,  750., 1047.,\n",
              "        450.,  627.,  450.,  354.,  800.,  244.,  800.,  163.,  800.,\n",
              "        808.,  850., 1720.,  400.,  868., 1200.,  520.,  300.,  299.,\n",
              "        300.])"
            ]
          },
          "metadata": {},
          "execution_count": 9
        }
      ]
    },
    {
      "cell_type": "code",
      "source": [
        "np.where(votes>500) #provides all the indices which has votes > 500"
      ],
      "metadata": {
        "colab": {
          "base_uri": "https://localhost:8080/"
        },
        "id": "iQh9Q-8J3GYQ",
        "outputId": "35106ba4-64b2-4434-daf6-f9c0736b5e31"
      },
      "execution_count": null,
      "outputs": [
        {
          "output_type": "execute_result",
          "data": {
            "text/plain": [
              "(array([0, 1, 2, 6, 8]),)"
            ]
          },
          "metadata": {},
          "execution_count": 10
        }
      ]
    },
    {
      "cell_type": "code",
      "source": [
        "votes[np.where(votes>500)] #returns the values which has the value > 500"
      ],
      "metadata": {
        "colab": {
          "base_uri": "https://localhost:8080/"
        },
        "id": "HyifTJxv3dhF",
        "outputId": "02427ff4-e0c6-4195-a8b3-35ebdecb16ac"
      },
      "execution_count": null,
      "outputs": [
        {
          "output_type": "execute_result",
          "data": {
            "text/plain": [
              "array([ 775,  787,  918, 2556,  504])"
            ]
          },
          "metadata": {},
          "execution_count": 11
        }
      ]
    },
    {
      "cell_type": "code",
      "source": [
        "# STEP 2: Remove commas and single quotes\n",
        "costs = np.char.replace(costs, ',', '')  # Remove commas np.char is similar to str.replace we use in python\n",
        "costs = np.char.replace(costs, \"'\", '')  # Remove single quotes\n",
        "\n",
        "# STEP 3: Convert the cleaned strings to float\n",
        "costs = costs.astype(float)\n",
        "\n",
        "# STEP 4: Confirm the dtype\n",
        "print(\"Array dtype after conversion:\", costs.dtype)\n",
        "print(\"Cleaned costs:\", costs)"
      ],
      "metadata": {
        "colab": {
          "base_uri": "https://localhost:8080/"
        },
        "id": "91tClYJ_49_n",
        "outputId": "f221de3b-b338-4cd1-92d0-1400ceb48fc9"
      },
      "execution_count": null,
      "outputs": [
        {
          "output_type": "stream",
          "name": "stdout",
          "text": [
            "Array dtype after conversion: float64\n",
            "Cleaned costs: [800. 800. 800. 300. 600. 600. 600. 700. 550. 500.]\n"
          ]
        }
      ]
    },
    {
      "cell_type": "code",
      "source": [
        "#Are there any restaurents with cost > 3000?\n",
        "\n",
        "costs[np.where(costs>3000)].shape[0] > 0\n"
      ],
      "metadata": {
        "colab": {
          "base_uri": "https://localhost:8080/"
        },
        "id": "kiO7eJPe5xDi",
        "outputId": "4eb0d107-e105-406d-da4e-284ded684e73"
      },
      "execution_count": null,
      "outputs": [
        {
          "output_type": "execute_result",
          "data": {
            "text/plain": [
              "False"
            ]
          },
          "metadata": {},
          "execution_count": 13
        }
      ]
    },
    {
      "cell_type": "markdown",
      "source": [
        "#Use Numpy functions as much as possible compare to python - Numpy functions are optimized and runs faster compare to python"
      ],
      "metadata": {
        "id": "z6vw961768gA"
      }
    },
    {
      "cell_type": "code",
      "source": [],
      "metadata": {
        "id": "r8ovopjl68MN"
      },
      "execution_count": null,
      "outputs": []
    },
    {
      "cell_type": "code",
      "source": [
        "np.any(costs>300) #more simple way to write the line number 26"
      ],
      "metadata": {
        "colab": {
          "base_uri": "https://localhost:8080/"
        },
        "id": "rqVDo-WS7Hd7",
        "outputId": "899f2fa8-ca23-4949-e8fc-a08e1f443e16"
      },
      "execution_count": null,
      "outputs": [
        {
          "output_type": "execute_result",
          "data": {
            "text/plain": [
              "np.True_"
            ]
          },
          "metadata": {},
          "execution_count": 14
        }
      ]
    },
    {
      "cell_type": "code",
      "source": [
        "#Are all restaurents cheaper than 5000? all functions\n",
        "np.all(costs<5000)"
      ],
      "metadata": {
        "colab": {
          "base_uri": "https://localhost:8080/"
        },
        "id": "JSyUcYmG7X7F",
        "outputId": "b89d531a-c258-4404-b4a3-94cea5ef9a36"
      },
      "execution_count": null,
      "outputs": [
        {
          "output_type": "execute_result",
          "data": {
            "text/plain": [
              "np.True_"
            ]
          },
          "metadata": {},
          "execution_count": 15
        }
      ]
    },
    {
      "cell_type": "code",
      "source": [
        "# Extracting numeric data as NumPy arrays for future analysis\n",
        "votes = np.array([ 775,  787,  918,   88,  166,  286, 2556,  324,  504,  402])\n",
        "costs = np.array([\"'800.0'\" ,\"'800.0'\", \"'800.0'\", \"'300.0'\", \"'600.0'\", \"'600.0'\", \"'600.0'\", \"'700.0'\" ,\"'550.0'\", \"'500.0'\"])\n",
        "rate = np.array([4.1, 3.8, 4.0, 2.6, 1.1, 3.5, 4.7, 2.5, 2.8, 3.4])\n",
        "\n",
        "print(\"Votes (Array):\", votes)\n",
        "print(\"Costs (Array):\", costs)\n",
        "print(\"Ratings (Array):\", rate)"
      ],
      "metadata": {
        "colab": {
          "base_uri": "https://localhost:8080/"
        },
        "id": "Zf1xgTbM8H22",
        "outputId": "7d077804-8b21-438a-a175-f450c556e41d"
      },
      "execution_count": null,
      "outputs": [
        {
          "output_type": "stream",
          "name": "stdout",
          "text": [
            "Votes (Array): [ 775  787  918   88  166  286 2556  324  504  402]\n",
            "Costs (Array): [\"'800.0'\" \"'800.0'\" \"'800.0'\" \"'300.0'\" \"'600.0'\" \"'600.0'\" \"'600.0'\"\n",
            " \"'700.0'\" \"'550.0'\" \"'500.0'\"]\n",
            "Ratings (Array): [4.1 3.8 4.  2.6 1.1 3.5 4.7 2.5 2.8 3.4]\n"
          ]
        }
      ]
    },
    {
      "cell_type": "code",
      "source": [
        "numeric_data = np.array([\n",
        "    [4.1, 775.0, 800.0],\n",
        "    [3.8, 787.0, 800.0],\n",
        "    [4.0, 918.0, 800.0],\n",
        "    [2.6, 88.0, 300.0],\n",
        "    [1.1, 166.0, 600.0],\n",
        "    [3.5, 286.0, 600.0],\n",
        "    [4.7, 2556.0, 600.0],\n",
        "    [2.5, 324.0, 700.0],\n",
        "    [2.8, 504.0, 550.0],\n",
        "    [3.4, 402.0, 500.0]\n",
        "])\n",
        "\n",
        "print(numeric_data)"
      ],
      "metadata": {
        "colab": {
          "base_uri": "https://localhost:8080/"
        },
        "id": "5Ckl8ixj9p96",
        "outputId": "fb9b0f22-2c82-4114-9e0b-098c4606b8ff"
      },
      "execution_count": null,
      "outputs": [
        {
          "output_type": "stream",
          "name": "stdout",
          "text": [
            "[[4.100e+00 7.750e+02 8.000e+02]\n",
            " [3.800e+00 7.870e+02 8.000e+02]\n",
            " [4.000e+00 9.180e+02 8.000e+02]\n",
            " [2.600e+00 8.800e+01 3.000e+02]\n",
            " [1.100e+00 1.660e+02 6.000e+02]\n",
            " [3.500e+00 2.860e+02 6.000e+02]\n",
            " [4.700e+00 2.556e+03 6.000e+02]\n",
            " [2.500e+00 3.240e+02 7.000e+02]\n",
            " [2.800e+00 5.040e+02 5.500e+02]\n",
            " [3.400e+00 4.020e+02 5.000e+02]]\n"
          ]
        }
      ]
    },
    {
      "cell_type": "code",
      "source": [
        "np.set_printoptions(suppress=True, precision=1) #simplifying the above data\n",
        "print(numeric_data)"
      ],
      "metadata": {
        "colab": {
          "base_uri": "https://localhost:8080/"
        },
        "id": "UcEyOgU1-Cnt",
        "outputId": "d5f196e9-1799-4337-a6e7-e7367741c903"
      },
      "execution_count": null,
      "outputs": [
        {
          "output_type": "stream",
          "name": "stdout",
          "text": [
            "[[   4.1  775.   800. ]\n",
            " [   3.8  787.   800. ]\n",
            " [   4.   918.   800. ]\n",
            " [   2.6   88.   300. ]\n",
            " [   1.1  166.   600. ]\n",
            " [   3.5  286.   600. ]\n",
            " [   4.7 2556.   600. ]\n",
            " [   2.5  324.   700. ]\n",
            " [   2.8  504.   550. ]\n",
            " [   3.4  402.   500. ]]\n"
          ]
        }
      ]
    },
    {
      "cell_type": "code",
      "source": [
        "print(votes)\n",
        "np.sort(votes)"
      ],
      "metadata": {
        "colab": {
          "base_uri": "https://localhost:8080/"
        },
        "id": "SN7KCWJJ-q-i",
        "outputId": "10ecd3dd-a5f2-49a2-c220-b7aa5c799c97"
      },
      "execution_count": null,
      "outputs": [
        {
          "output_type": "stream",
          "name": "stdout",
          "text": [
            "[ 775  787  918   88  166  286 2556  324  504  402]\n"
          ]
        },
        {
          "output_type": "execute_result",
          "data": {
            "text/plain": [
              "array([  88,  166,  286,  324,  402,  504,  775,  787,  918, 2556])"
            ]
          },
          "metadata": {},
          "execution_count": 19
        }
      ]
    },
    {
      "cell_type": "code",
      "source": [
        "np.argsort(votes) #gives indices of values in original votes array if they sorted - the value in indices 3 -4 - 5-7 etc in sorting"
      ],
      "metadata": {
        "colab": {
          "base_uri": "https://localhost:8080/"
        },
        "id": "UYGQpMFK-wYO",
        "outputId": "a3f3f9ee-0aa0-4a3d-d203-860c427bf34f"
      },
      "execution_count": null,
      "outputs": [
        {
          "output_type": "execute_result",
          "data": {
            "text/plain": [
              "array([3, 4, 5, 7, 9, 8, 0, 1, 2, 6])"
            ]
          },
          "metadata": {},
          "execution_count": 20
        }
      ]
    },
    {
      "cell_type": "code",
      "source": [
        "costs[np.argsort(votes)]"
      ],
      "metadata": {
        "colab": {
          "base_uri": "https://localhost:8080/"
        },
        "id": "niZ_J8wbBkrJ",
        "outputId": "78abf17d-ca5a-424b-c721-854702a0e04c"
      },
      "execution_count": null,
      "outputs": [
        {
          "output_type": "execute_result",
          "data": {
            "text/plain": [
              "array([\"'300.0'\", \"'600.0'\", \"'600.0'\", \"'700.0'\", \"'500.0'\", \"'550.0'\",\n",
              "       \"'800.0'\", \"'800.0'\", \"'800.0'\", \"'600.0'\"], dtype='<U7')"
            ]
          },
          "metadata": {},
          "execution_count": 21
        }
      ]
    },
    {
      "cell_type": "markdown",
      "source": [
        "Occams Razor - Use the simplest method"
      ],
      "metadata": {
        "id": "4TvWo817CjtW"
      }
    },
    {
      "cell_type": "code",
      "source": [
        "#sorting descending order\n",
        "np.sort(votes)[::-1] #[start:stop:step]"
      ],
      "metadata": {
        "colab": {
          "base_uri": "https://localhost:8080/"
        },
        "id": "loj_CLu2CtnL",
        "outputId": "f54f5044-7699-47f1-9275-95f1d56c743b"
      },
      "execution_count": null,
      "outputs": [
        {
          "output_type": "execute_result",
          "data": {
            "text/plain": [
              "array([2556,  918,  787,  775,  504,  402,  324,  286,  166,   88])"
            ]
          },
          "metadata": {},
          "execution_count": 22
        }
      ]
    },
    {
      "cell_type": "code",
      "source": [
        "#if you don't specify first value - starts from index 0 and ends at index 2 - remember 3 is not included\n",
        "votes[:3]"
      ],
      "metadata": {
        "colab": {
          "base_uri": "https://localhost:8080/"
        },
        "id": "ikeFKe0UDxsv",
        "outputId": "6074eee2-6d7e-44c3-9dec-6cc44fe90142"
      },
      "execution_count": null,
      "outputs": [
        {
          "output_type": "execute_result",
          "data": {
            "text/plain": [
              "array([775, 787, 918])"
            ]
          },
          "metadata": {},
          "execution_count": 23
        }
      ]
    },
    {
      "cell_type": "code",
      "source": [
        "#if you don't specify last value - starts from index 2 and ends at last number\n",
        "votes[2:]"
      ],
      "metadata": {
        "colab": {
          "base_uri": "https://localhost:8080/"
        },
        "id": "rdpoN0wPEMAQ",
        "outputId": "29affcb1-4fa0-4028-f8c4-6cbbd2644b8f"
      },
      "execution_count": null,
      "outputs": [
        {
          "output_type": "execute_result",
          "data": {
            "text/plain": [
              "array([ 918,   88,  166,  286, 2556,  324,  504,  402])"
            ]
          },
          "metadata": {},
          "execution_count": 24
        }
      ]
    },
    {
      "cell_type": "code",
      "source": [
        "#if you specify the step that means every second value from the begining of the array\n",
        "votes[::2]"
      ],
      "metadata": {
        "colab": {
          "base_uri": "https://localhost:8080/"
        },
        "id": "rACCJEd1EYx7",
        "outputId": "06f686a5-dc3e-48a3-a87f-fb25ded0e3c5"
      },
      "execution_count": null,
      "outputs": [
        {
          "output_type": "execute_result",
          "data": {
            "text/plain": [
              "array([ 775,  918,  166, 2556,  504])"
            ]
          },
          "metadata": {},
          "execution_count": 25
        }
      ]
    },
    {
      "cell_type": "code",
      "source": [
        "#if you specify the step -1 then it reverses the array\n",
        "votes[::-1]"
      ],
      "metadata": {
        "colab": {
          "base_uri": "https://localhost:8080/"
        },
        "id": "utLJ5vNIEvov",
        "outputId": "1f84aa89-86ff-481f-da57-22479806e197"
      },
      "execution_count": null,
      "outputs": [
        {
          "output_type": "execute_result",
          "data": {
            "text/plain": [
              "array([ 402,  504,  324, 2556,  286,  166,   88,  918,  787,  775])"
            ]
          },
          "metadata": {},
          "execution_count": 26
        }
      ]
    },
    {
      "cell_type": "code",
      "source": [
        "# sorting on 2d arrays\n",
        "array_2d = np.array([[34, 11, 8],\n",
        "                     [7, 45, 18],\n",
        "                     [9, 23, 20]])\n",
        "\n",
        "np.sort(array_2d)"
      ],
      "metadata": {
        "colab": {
          "base_uri": "https://localhost:8080/"
        },
        "id": "ct5OWTGrGwRm",
        "outputId": "28643436-0465-4a82-cdb1-f37c535e8434"
      },
      "execution_count": null,
      "outputs": [
        {
          "output_type": "execute_result",
          "data": {
            "text/plain": [
              "array([[ 8, 11, 34],\n",
              "       [ 7, 18, 45],\n",
              "       [ 9, 20, 23]])"
            ]
          },
          "metadata": {},
          "execution_count": 27
        }
      ]
    },
    {
      "cell_type": "code",
      "source": [
        "np.sort(array_2d,axis=0) #Vertical sorting - sorting columns"
      ],
      "metadata": {
        "colab": {
          "base_uri": "https://localhost:8080/"
        },
        "id": "AG3Y0EckG7Ok",
        "outputId": "722c9970-0f85-4791-dfae-a31a93d643a7"
      },
      "execution_count": null,
      "outputs": [
        {
          "output_type": "execute_result",
          "data": {
            "text/plain": [
              "array([[ 7, 11,  8],\n",
              "       [ 9, 23, 18],\n",
              "       [34, 45, 20]])"
            ]
          },
          "metadata": {},
          "execution_count": 28
        }
      ]
    },
    {
      "cell_type": "code",
      "source": [
        "#sorting by ratings\n",
        "\n",
        "#step 1 extract 1st column\n",
        "ratings = numeric_data[:,0]\n",
        "\n",
        "#step 2 get indices of sorted ratings\n",
        "sorted_int_by_ratings = np.argsort(ratings)\n",
        "\n",
        "#step 3\n",
        "numeric_data[sorted_int_by_ratings,:]"
      ],
      "metadata": {
        "colab": {
          "base_uri": "https://localhost:8080/"
        },
        "id": "LDGWYCxyHGoG",
        "outputId": "2e562448-7306-436a-8475-59a1274bec46"
      },
      "execution_count": null,
      "outputs": [
        {
          "output_type": "execute_result",
          "data": {
            "text/plain": [
              "array([[   1.1,  166. ,  600. ],\n",
              "       [   2.5,  324. ,  700. ],\n",
              "       [   2.6,   88. ,  300. ],\n",
              "       [   2.8,  504. ,  550. ],\n",
              "       [   3.4,  402. ,  500. ],\n",
              "       [   3.5,  286. ,  600. ],\n",
              "       [   3.8,  787. ,  800. ],\n",
              "       [   4. ,  918. ,  800. ],\n",
              "       [   4.1,  775. ,  800. ],\n",
              "       [   4.7, 2556. ,  600. ]])"
            ]
          },
          "metadata": {},
          "execution_count": 29
        }
      ]
    },
    {
      "cell_type": "code",
      "source": [
        "numeric_data[np.argsort(numeric_data[:,0]),:]"
      ],
      "metadata": {
        "colab": {
          "base_uri": "https://localhost:8080/"
        },
        "id": "_43fvZQiKGdh",
        "outputId": "1ccf6cdf-2e96-489f-b7cd-cc22dea40e11"
      },
      "execution_count": null,
      "outputs": [
        {
          "output_type": "execute_result",
          "data": {
            "text/plain": [
              "array([[   1.1,  166. ,  600. ],\n",
              "       [   2.5,  324. ,  700. ],\n",
              "       [   2.6,   88. ,  300. ],\n",
              "       [   2.8,  504. ,  550. ],\n",
              "       [   3.4,  402. ,  500. ],\n",
              "       [   3.5,  286. ,  600. ],\n",
              "       [   3.8,  787. ,  800. ],\n",
              "       [   4. ,  918. ,  800. ],\n",
              "       [   4.1,  775. ,  800. ],\n",
              "       [   4.7, 2556. ,  600. ]])"
            ]
          },
          "metadata": {},
          "execution_count": 30
        }
      ]
    },
    {
      "cell_type": "code",
      "source": [
        "#element-wise multiplications\n",
        "votes * ratings"
      ],
      "metadata": {
        "colab": {
          "base_uri": "https://localhost:8080/"
        },
        "id": "-IF8D8TXNtcD",
        "outputId": "3536368e-e2d6-433d-870d-a61a514b6d21"
      },
      "execution_count": null,
      "outputs": [
        {
          "output_type": "execute_result",
          "data": {
            "text/plain": [
              "array([ 3177.5,  2990.6,  3672. ,   228.8,   182.6,  1001. , 12013.2,\n",
              "         810. ,  1411.2,  1366.8])"
            ]
          },
          "metadata": {},
          "execution_count": 31
        }
      ]
    },
    {
      "cell_type": "code",
      "source": [
        "votes * 5"
      ],
      "metadata": {
        "colab": {
          "base_uri": "https://localhost:8080/"
        },
        "id": "y4QD6Z6mN3J6",
        "outputId": "3d7e83fb-090b-4568-927e-b0043dee4852"
      },
      "execution_count": null,
      "outputs": [
        {
          "output_type": "execute_result",
          "data": {
            "text/plain": [
              "array([ 3875,  3935,  4590,   440,   830,  1430, 12780,  1620,  2520,\n",
              "        2010])"
            ]
          },
          "metadata": {},
          "execution_count": 32
        }
      ]
    },
    {
      "cell_type": "code",
      "source": [
        "np.array([1,2,3,4,5]) * np.array([1,2,3])"
      ],
      "metadata": {
        "colab": {
          "base_uri": "https://localhost:8080/",
          "height": 141
        },
        "id": "TdKBZ-YiOQ0G",
        "outputId": "ce7f6ac1-a983-4704-e19d-23fd8cd36452"
      },
      "execution_count": null,
      "outputs": [
        {
          "output_type": "error",
          "ename": "ValueError",
          "evalue": "operands could not be broadcast together with shapes (5,) (3,) ",
          "traceback": [
            "\u001b[0;31m---------------------------------------------------------------------------\u001b[0m",
            "\u001b[0;31mValueError\u001b[0m                                Traceback (most recent call last)",
            "\u001b[0;32m<ipython-input-33-a41838b8ee3e>\u001b[0m in \u001b[0;36m<cell line: 0>\u001b[0;34m()\u001b[0m\n\u001b[0;32m----> 1\u001b[0;31m \u001b[0mnp\u001b[0m\u001b[0;34m.\u001b[0m\u001b[0marray\u001b[0m\u001b[0;34m(\u001b[0m\u001b[0;34m[\u001b[0m\u001b[0;36m1\u001b[0m\u001b[0;34m,\u001b[0m\u001b[0;36m2\u001b[0m\u001b[0;34m,\u001b[0m\u001b[0;36m3\u001b[0m\u001b[0;34m,\u001b[0m\u001b[0;36m4\u001b[0m\u001b[0;34m,\u001b[0m\u001b[0;36m5\u001b[0m\u001b[0;34m]\u001b[0m\u001b[0;34m)\u001b[0m \u001b[0;34m*\u001b[0m \u001b[0mnp\u001b[0m\u001b[0;34m.\u001b[0m\u001b[0marray\u001b[0m\u001b[0;34m(\u001b[0m\u001b[0;34m[\u001b[0m\u001b[0;36m1\u001b[0m\u001b[0;34m,\u001b[0m\u001b[0;36m2\u001b[0m\u001b[0;34m,\u001b[0m\u001b[0;36m3\u001b[0m\u001b[0;34m]\u001b[0m\u001b[0;34m)\u001b[0m\u001b[0;34m\u001b[0m\u001b[0;34m\u001b[0m\u001b[0m\n\u001b[0m",
            "\u001b[0;31mValueError\u001b[0m: operands could not be broadcast together with shapes (5,) (3,) "
          ]
        }
      ]
    },
    {
      "cell_type": "code",
      "source": [
        "#Matrix multipication\n",
        "transformation_matrix = np.array([[1.2, 0.8, 0.5],\n",
        "                                   [0.5, 1.5, 1.0],\n",
        "                                   [0.7, 0.6, 1.8]])\n",
        "transformation_matrix.shape"
      ],
      "metadata": {
        "id": "BBG0iMgWOsJ2"
      },
      "execution_count": null,
      "outputs": []
    },
    {
      "cell_type": "code",
      "source": [
        "numeric_data.shape"
      ],
      "metadata": {
        "id": "cKqLLzgfOr-p"
      },
      "execution_count": null,
      "outputs": []
    },
    {
      "cell_type": "markdown",
      "source": [
        "Dimension of matrix A = 3X10\n",
        "Dimension of matrix B = 10X3\n",
        "Matrix multiplication of AXB is only possible when A matrix column is same as matrix B row which is true in this case.\n",
        "The outcome matrix size witll be 3X3 = 9\n",
        "A dimension is = mXn\n",
        "B dimension is = nXo\n",
        "Final multiplication matrix dimension witll be mXo\n"
      ],
      "metadata": {
        "id": "bS1P4N6SPTAj"
      }
    },
    {
      "cell_type": "code",
      "source": [
        "#np.dot\n",
        "np.dot(numeric_data,transformation_matrix)"
      ],
      "metadata": {
        "id": "s6HYfAqxPsdX"
      },
      "execution_count": null,
      "outputs": []
    },
    {
      "cell_type": "code",
      "source": [
        "np.matmul(numeric_data,transformation_matrix) #Another way to Multiply"
      ],
      "metadata": {
        "id": "pr_qGPb1Q4fx"
      },
      "execution_count": null,
      "outputs": []
    },
    {
      "cell_type": "code",
      "source": [
        "numeric_data@transformation_matrix #Another way to Multiply"
      ],
      "metadata": {
        "id": "bfG2FE6LQ9ff"
      },
      "execution_count": null,
      "outputs": []
    },
    {
      "cell_type": "code",
      "source": [
        " a = np.array([1,2,3,4])"
      ],
      "metadata": {
        "id": "dWG4EmgZROD5"
      },
      "execution_count": null,
      "outputs": []
    },
    {
      "cell_type": "code",
      "source": [
        "np.matmul(a,5)"
      ],
      "metadata": {
        "id": "hZT75QS7TUKD"
      },
      "execution_count": null,
      "outputs": []
    },
    {
      "cell_type": "code",
      "source": [
        "a @ 5"
      ],
      "metadata": {
        "id": "cYP4JbvDTa9M"
      },
      "execution_count": null,
      "outputs": []
    },
    {
      "cell_type": "code",
      "source": [
        "np.dot(a,5)"
      ],
      "metadata": {
        "id": "9yNUK-7FTdjw"
      },
      "execution_count": null,
      "outputs": []
    },
    {
      "cell_type": "code",
      "source": [
        "b = np.array([10,11,12,13])"
      ],
      "metadata": {
        "id": "CY4TJXdwTnUV"
      },
      "execution_count": null,
      "outputs": []
    },
    {
      "cell_type": "code",
      "source": [
        "np.dot(a,b) # This will add corrospending values of arrays and sum them"
      ],
      "metadata": {
        "id": "e8zhCFFaTs7T"
      },
      "execution_count": null,
      "outputs": []
    },
    {
      "cell_type": "markdown",
      "source": [
        "There is no difference between matmul and @ when you multiply the matrixes. The np.dot is a dot product.\n",
        "Numpy works based on vectorization.\n",
        "Lot of parrallen computing happens in vectorization.\n"
      ],
      "metadata": {
        "id": "mxML_LwBUDwu"
      }
    },
    {
      "cell_type": "code",
      "source": [
        "def categorize_rating(rating):\n",
        "    \"\"\"Categorize ratings into high or low.\"\"\"\n",
        "    if rating >= 4.0:\n",
        "        return \"High\"\n",
        "    else:\n",
        "        return \"Low\""
      ],
      "metadata": {
        "id": "8IcCbIGCUPV0"
      },
      "execution_count": null,
      "outputs": []
    },
    {
      "cell_type": "code",
      "source": [
        "categorize_rating(4.2)"
      ],
      "metadata": {
        "id": "He4Oo-cNWRq-"
      },
      "execution_count": null,
      "outputs": []
    },
    {
      "cell_type": "code",
      "source": [
        "categorize_rating(ratings)"
      ],
      "metadata": {
        "id": "hSxk3LYtWVcY"
      },
      "execution_count": null,
      "outputs": []
    },
    {
      "cell_type": "code",
      "source": [
        "vect_categorize_rating = np.vectorize(categorize_rating)\n",
        "vect_categorize_rating"
      ],
      "metadata": {
        "id": "0RLtZk3LWWZV"
      },
      "execution_count": null,
      "outputs": []
    },
    {
      "cell_type": "code",
      "source": [
        "vect_categorize_rating(ratings)"
      ],
      "metadata": {
        "id": "oattR177XexK"
      },
      "execution_count": null,
      "outputs": []
    },
    {
      "cell_type": "code",
      "source": [
        "def discount_cost(rate, cost):\n",
        "    \"\"\"Apply a 10% discount if the rating is 4.0 or higher.\"\"\"\n",
        "    if rate >= 4.0:\n",
        "        return cost * 0.9\n",
        "    else:\n",
        "        return cost"
      ],
      "metadata": {
        "id": "V9i5xQjDYxJ6"
      },
      "execution_count": null,
      "outputs": []
    },
    {
      "cell_type": "code",
      "source": [
        "# Vectorize the discount_cost function\n",
        "vectorized_discount_cost = np.vectorize(discount_cost)\n",
        "\n",
        "# Apply the vectorized function to 'rate' and 'approx_cost(for two people)'\n",
        "discounted_costs = vectorized_discount_cost(numeric_data[:, 0], numeric_data[:, 2])\n",
        "\n",
        "# Display a sample of the discounted costs\n",
        "print(\"Discounted Costs (sample):\", discounted_costs[:10])"
      ],
      "metadata": {
        "id": "hjsPbCeXYtVm"
      },
      "execution_count": null,
      "outputs": []
    },
    {
      "cell_type": "code",
      "source": [
        "array_2d = np.array([[1, 2, 3], [4, 5, 6]])\n",
        "scalar = 10\n",
        "\n",
        "result = array_2d + scalar\n",
        "print(\"Array:\\n\", array_2d)\n",
        "print(\"---\"* 10)\n",
        "\n",
        "print(\"adding Scalar:\", scalar)\n",
        "print(\"---\"* 10)\n",
        "\n",
        "print(\"Result after broadcasting:\\n\", result)"
      ],
      "metadata": {
        "id": "lt2v_pNnj9KG"
      },
      "execution_count": null,
      "outputs": []
    },
    {
      "cell_type": "code",
      "source": [
        "# Arrays with the same shape\n",
        "array1 = np.array([1, 2, 3])\n",
        "array2 = np.array([4, 5, 6])\n",
        "\n",
        "array1 + array2"
      ],
      "metadata": {
        "colab": {
          "base_uri": "https://localhost:8080/"
        },
        "id": "Zx85gFvPkAMw",
        "outputId": "4ecee381-7f2d-4e51-9509-4345b2986f03"
      },
      "execution_count": null,
      "outputs": [
        {
          "output_type": "execute_result",
          "data": {
            "text/plain": [
              "array([5, 7, 9])"
            ]
          },
          "metadata": {},
          "execution_count": 34
        }
      ]
    },
    {
      "cell_type": "code",
      "source": [
        "# Broadcasting a 1D array to a 2D array\n",
        "array_2d = np.array([[1, 2, 3], [4, 5, 6]])\n",
        "array_1d = np.array([10, 20, 30])\n",
        "\n",
        "array_2d + array_1d"
      ],
      "metadata": {
        "colab": {
          "base_uri": "https://localhost:8080/"
        },
        "id": "W9_Cec9MkDMM",
        "outputId": "a4c634aa-6781-4db2-da64-cf2e5a30322c"
      },
      "execution_count": null,
      "outputs": [
        {
          "output_type": "execute_result",
          "data": {
            "text/plain": [
              "array([[11, 22, 33],\n",
              "       [14, 25, 36]])"
            ]
          },
          "metadata": {},
          "execution_count": 35
        }
      ]
    },
    {
      "cell_type": "code",
      "source": [
        "# Column matrix (3x1) and row matrix (1x3)\n",
        "col_matrix = np.array([[1], [2], [3]])\n",
        "row_matrix = np.array([[10, 20, 30]])"
      ],
      "metadata": {
        "id": "NnDJpJ-BlmM-"
      },
      "execution_count": null,
      "outputs": []
    },
    {
      "cell_type": "code",
      "source": [
        "print(col_matrix.shape, row_matrix.shape)"
      ],
      "metadata": {
        "colab": {
          "base_uri": "https://localhost:8080/"
        },
        "id": "7WXdmEbfln9d",
        "outputId": "22594d36-6165-4c71-c04b-a3453522ef16"
      },
      "execution_count": null,
      "outputs": [
        {
          "output_type": "stream",
          "name": "stdout",
          "text": [
            "(3, 1) (1, 3)\n"
          ]
        }
      ]
    },
    {
      "cell_type": "code",
      "source": [
        "col_matrix + row_matrix"
      ],
      "metadata": {
        "colab": {
          "base_uri": "https://localhost:8080/"
        },
        "id": "LASO807ilptV",
        "outputId": "ac9c7cd7-d626-4e57-ee05-3b42bc231538"
      },
      "execution_count": null,
      "outputs": [
        {
          "output_type": "execute_result",
          "data": {
            "text/plain": [
              "array([[11, 21, 31],\n",
              "       [12, 22, 32],\n",
              "       [13, 23, 33]])"
            ]
          },
          "metadata": {},
          "execution_count": 39
        }
      ]
    },
    {
      "cell_type": "code",
      "source": [
        "array1 = np.array([1, 2, 3])\n",
        "array2 = np.array([[1, 2], [3, 4]])"
      ],
      "metadata": {
        "id": "KTuL1jIPl0cj"
      },
      "execution_count": null,
      "outputs": []
    },
    {
      "cell_type": "code",
      "source": [
        "array1 + array2"
      ],
      "metadata": {
        "id": "ppufNh36l2Xe"
      },
      "execution_count": null,
      "outputs": []
    },
    {
      "cell_type": "markdown",
      "source": [
        "Broadcasting - Refer class notes and recording"
      ],
      "metadata": {
        "id": "_UIIbhbOnG0c"
      }
    },
    {
      "cell_type": "code",
      "source": [
        "array1 = np.array([[1, 2, 3], [4, 5, 6]])\n",
        "array2 = np.array([[10], [20]])"
      ],
      "metadata": {
        "id": "UvIBdDIvnOd9"
      },
      "execution_count": null,
      "outputs": []
    },
    {
      "cell_type": "code",
      "source": [
        "print(array1)\n",
        "print(array2)"
      ],
      "metadata": {
        "id": "t1Y2QctaoD_I"
      },
      "execution_count": null,
      "outputs": []
    },
    {
      "cell_type": "code",
      "source": [
        "array1 + array2"
      ],
      "metadata": {
        "id": "669x86choF8C"
      },
      "execution_count": null,
      "outputs": []
    },
    {
      "cell_type": "code",
      "source": [
        "array1 = np.array([[1, 2, 3], [4, 5, 6]])\n",
        "array2 = np.array([[10, 20]])\n",
        "array1 + array2"
      ],
      "metadata": {
        "colab": {
          "base_uri": "https://localhost:8080/",
          "height": 176
        },
        "id": "U90Nl4r0o5Ss",
        "outputId": "af87c0a6-9dc7-4977-a6b6-4b1e50534df8"
      },
      "execution_count": null,
      "outputs": [
        {
          "output_type": "error",
          "ename": "ValueError",
          "evalue": "operands could not be broadcast together with shapes (2,3) (1,2) ",
          "traceback": [
            "\u001b[0;31m---------------------------------------------------------------------------\u001b[0m",
            "\u001b[0;31mValueError\u001b[0m                                Traceback (most recent call last)",
            "\u001b[0;32m<ipython-input-40-a6154507606f>\u001b[0m in \u001b[0;36m<cell line: 0>\u001b[0;34m()\u001b[0m\n\u001b[1;32m      1\u001b[0m \u001b[0marray1\u001b[0m \u001b[0;34m=\u001b[0m \u001b[0mnp\u001b[0m\u001b[0;34m.\u001b[0m\u001b[0marray\u001b[0m\u001b[0;34m(\u001b[0m\u001b[0;34m[\u001b[0m\u001b[0;34m[\u001b[0m\u001b[0;36m1\u001b[0m\u001b[0;34m,\u001b[0m \u001b[0;36m2\u001b[0m\u001b[0;34m,\u001b[0m \u001b[0;36m3\u001b[0m\u001b[0;34m]\u001b[0m\u001b[0;34m,\u001b[0m \u001b[0;34m[\u001b[0m\u001b[0;36m4\u001b[0m\u001b[0;34m,\u001b[0m \u001b[0;36m5\u001b[0m\u001b[0;34m,\u001b[0m \u001b[0;36m6\u001b[0m\u001b[0;34m]\u001b[0m\u001b[0;34m]\u001b[0m\u001b[0;34m)\u001b[0m\u001b[0;34m\u001b[0m\u001b[0;34m\u001b[0m\u001b[0m\n\u001b[1;32m      2\u001b[0m \u001b[0marray2\u001b[0m \u001b[0;34m=\u001b[0m \u001b[0mnp\u001b[0m\u001b[0;34m.\u001b[0m\u001b[0marray\u001b[0m\u001b[0;34m(\u001b[0m\u001b[0;34m[\u001b[0m\u001b[0;34m[\u001b[0m\u001b[0;36m10\u001b[0m\u001b[0;34m,\u001b[0m \u001b[0;36m20\u001b[0m\u001b[0;34m]\u001b[0m\u001b[0;34m]\u001b[0m\u001b[0;34m)\u001b[0m\u001b[0;34m\u001b[0m\u001b[0;34m\u001b[0m\u001b[0m\n\u001b[0;32m----> 3\u001b[0;31m \u001b[0marray1\u001b[0m \u001b[0;34m+\u001b[0m \u001b[0marray2\u001b[0m\u001b[0;34m\u001b[0m\u001b[0;34m\u001b[0m\u001b[0m\n\u001b[0m",
            "\u001b[0;31mValueError\u001b[0m: operands could not be broadcast together with shapes (2,3) (1,2) "
          ]
        }
      ]
    },
    {
      "cell_type": "code",
      "source": [
        "arr1 = np.array([1,2,3,4,5,6,7,8]).reshape(2,4)\n",
        "arr2 = np.array([10,11])\n",
        "arr1 + arr2"
      ],
      "metadata": {
        "colab": {
          "base_uri": "https://localhost:8080/",
          "height": 176
        },
        "id": "7N4ygndQpvpV",
        "outputId": "f7cea440-cf69-4d2a-bfab-b907f60861e6"
      },
      "execution_count": null,
      "outputs": [
        {
          "output_type": "error",
          "ename": "ValueError",
          "evalue": "operands could not be broadcast together with shapes (2,4) (2,) ",
          "traceback": [
            "\u001b[0;31m---------------------------------------------------------------------------\u001b[0m",
            "\u001b[0;31mValueError\u001b[0m                                Traceback (most recent call last)",
            "\u001b[0;32m<ipython-input-41-19b7675feafa>\u001b[0m in \u001b[0;36m<cell line: 0>\u001b[0;34m()\u001b[0m\n\u001b[1;32m      1\u001b[0m \u001b[0marr1\u001b[0m \u001b[0;34m=\u001b[0m \u001b[0mnp\u001b[0m\u001b[0;34m.\u001b[0m\u001b[0marray\u001b[0m\u001b[0;34m(\u001b[0m\u001b[0;34m[\u001b[0m\u001b[0;36m1\u001b[0m\u001b[0;34m,\u001b[0m\u001b[0;36m2\u001b[0m\u001b[0;34m,\u001b[0m\u001b[0;36m3\u001b[0m\u001b[0;34m,\u001b[0m\u001b[0;36m4\u001b[0m\u001b[0;34m,\u001b[0m\u001b[0;36m5\u001b[0m\u001b[0;34m,\u001b[0m\u001b[0;36m6\u001b[0m\u001b[0;34m,\u001b[0m\u001b[0;36m7\u001b[0m\u001b[0;34m,\u001b[0m\u001b[0;36m8\u001b[0m\u001b[0;34m]\u001b[0m\u001b[0;34m)\u001b[0m\u001b[0;34m.\u001b[0m\u001b[0mreshape\u001b[0m\u001b[0;34m(\u001b[0m\u001b[0;36m2\u001b[0m\u001b[0;34m,\u001b[0m\u001b[0;36m4\u001b[0m\u001b[0;34m)\u001b[0m\u001b[0;34m\u001b[0m\u001b[0;34m\u001b[0m\u001b[0m\n\u001b[1;32m      2\u001b[0m \u001b[0marr2\u001b[0m \u001b[0;34m=\u001b[0m \u001b[0mnp\u001b[0m\u001b[0;34m.\u001b[0m\u001b[0marray\u001b[0m\u001b[0;34m(\u001b[0m\u001b[0;34m[\u001b[0m\u001b[0;36m10\u001b[0m\u001b[0;34m,\u001b[0m\u001b[0;36m11\u001b[0m\u001b[0;34m]\u001b[0m\u001b[0;34m)\u001b[0m\u001b[0;34m\u001b[0m\u001b[0;34m\u001b[0m\u001b[0m\n\u001b[0;32m----> 3\u001b[0;31m \u001b[0marr1\u001b[0m \u001b[0;34m+\u001b[0m \u001b[0marr2\u001b[0m\u001b[0;34m\u001b[0m\u001b[0;34m\u001b[0m\u001b[0m\n\u001b[0m",
            "\u001b[0;31mValueError\u001b[0m: operands could not be broadcast together with shapes (2,4) (2,) "
          ]
        }
      ]
    },
    {
      "cell_type": "code",
      "source": [
        "array1 = np.array([[1,2,3]])\n",
        "array2 = np.array([[10],[20],[30]])\n",
        "\n",
        "array1_tiled = np.tile(array1, array2.shape)\n",
        "array1_tiled\n"
      ],
      "metadata": {
        "id": "15hGLcqScC3H"
      },
      "execution_count": null,
      "outputs": []
    },
    {
      "cell_type": "code",
      "source": [
        "arr1 = np.array([1,2,3,4,5,6,7,8])\n",
        "np.split(arr1, 4)"
      ],
      "metadata": {
        "id": "bQPL5G_3csL8"
      },
      "execution_count": null,
      "outputs": []
    },
    {
      "cell_type": "code",
      "source": [
        "array_2d = np.array([[1,2,3,4],[5,6,7,8]])\n",
        "np.split(array_2d,2,axis=0)"
      ],
      "metadata": {
        "id": "EQOF-r7odS5E"
      },
      "execution_count": null,
      "outputs": []
    },
    {
      "cell_type": "code",
      "source": [
        "x = np.ones((5,5))\n",
        "x[1:-1,1:-1] = 0\n",
        "print(x)"
      ],
      "metadata": {
        "id": "ad44M-qhX3Uq"
      },
      "execution_count": null,
      "outputs": []
    },
    {
      "cell_type": "code",
      "source": [
        "arr1 = np.array(['Ram','Astha','Brahat'])\n",
        "arr2 = np.array(['Shyam','Kalyan','Naveen'])\n",
        "arr1 > arr2"
      ],
      "metadata": {
        "id": "nOjOyYH3cLuR"
      },
      "execution_count": null,
      "outputs": []
    },
    {
      "cell_type": "code",
      "source": [
        "np.arange(10,22)"
      ],
      "metadata": {
        "id": "gRMBkA-1dK3c"
      },
      "execution_count": null,
      "outputs": []
    }
  ]
}